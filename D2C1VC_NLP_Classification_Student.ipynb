{
  "nbformat": 4,
  "nbformat_minor": 0,
  "metadata": {
    "colab": {
      "provenance": [],
      "collapsed_sections": [
        "YCLcPzPg3TAK",
        "PVWAyOzwhaKY"
      ],
      "include_colab_link": true
    },
    "kernelspec": {
      "name": "python3",
      "display_name": "Python 3"
    },
    "language_info": {
      "name": "python"
    }
  },
  "cells": [
    {
      "cell_type": "markdown",
      "metadata": {
        "id": "view-in-github",
        "colab_type": "text"
      },
      "source": [
        "<a href=\"https://colab.research.google.com/github/sopyjj/lumin8/blob/main/D2C1VC_NLP_Classification_Student.ipynb\" target=\"_parent\"><img src=\"https://colab.research.google.com/assets/colab-badge.svg\" alt=\"Open In Colab\"/></a>"
      ]
    },
    {
      "cell_type": "markdown",
      "source": [
        "# Introduction to NLP Classification\n",
        "Harvard AI Bootcamp"
      ],
      "metadata": {
        "id": "EHf_9513s5cM"
      }
    },
    {
      "cell_type": "markdown",
      "source": [
        "## Make a copy of this notebook! Editing directly will not be saved."
      ],
      "metadata": {
        "id": "rdR8-cp-9aGh"
      }
    },
    {
      "cell_type": "markdown",
      "source": [
        "You will be working on a dataset of \"documents,\" short text strings encompassing comments, statements, tweets, etc. Each document is paired with its emotion, e.g. \"I love AI!\" is paired with \"joy.\" You could think of these as short tweets."
      ],
      "metadata": {
        "id": "nx0_MLR9tEdj"
      }
    },
    {
      "cell_type": "markdown",
      "source": [
        "To begin, download the dataset from https://drive.google.com/file/d/10s1fJPzTOQQ1n84rUVaVMrR4MkuuUIiL/view\n",
        "\n",
        "The dataset is formatted as a .csv file, with documents under the \"Comment\" column and emotions under the \"Emotion\" column. Each row represents one document and its emotion. Upload this in the files section on the left of your Colab notebook."
      ],
      "metadata": {
        "id": "OmOkaaJJtR60"
      }
    },
    {
      "cell_type": "code",
      "source": [
        "#Load the data as a Pandas dataframe\n",
        "import pandas as pd\n",
        "df = pd.read_csv('emotions.csv')"
      ],
      "metadata": {
        "id": "ZI2_xEzrt3vB"
      },
      "execution_count": null,
      "outputs": []
    },
    {
      "cell_type": "code",
      "source": [
        "df.head()"
      ],
      "metadata": {
        "id": "Krh8xp-LuGec"
      },
      "execution_count": null,
      "outputs": []
    },
    {
      "cell_type": "markdown",
      "source": [
        "## Part A: Exploratory Analysis and Visualizations"
      ],
      "metadata": {
        "id": "LF_NQUsZtjSr"
      }
    },
    {
      "cell_type": "markdown",
      "source": [
        "Before looking for relationships, get a general idea of the shape of the dataset. Explore the data to gain an understanding of the variables that exist. To help guide you through the process, here are a few questions to get started.\n",
        "\n",
        "What is the shape of the data? How many documents and unique emotions are there? How many documents per unique emotion? \\\\\n"
      ],
      "metadata": {
        "id": "tuFh4Z0itpLH"
      }
    },
    {
      "cell_type": "code",
      "source": [
        "# TODO: calculate the length of the dataframe\n"
      ],
      "metadata": {
        "id": "1Qzm4fNTlgw5",
        "colab": {
          "base_uri": "https://localhost:8080/"
        },
        "outputId": "9aa125d9-bd76-4f0c-b22b-837cdd41abc6"
      },
      "execution_count": null,
      "outputs": [
        {
          "output_type": "execute_result",
          "data": {
            "text/plain": [
              "20000"
            ]
          },
          "metadata": {},
          "execution_count": 3
        }
      ]
    },
    {
      "cell_type": "code",
      "source": [
        "# TODO: count the frequency of emotions\n"
      ],
      "metadata": {
        "colab": {
          "base_uri": "https://localhost:8080/"
        },
        "id": "JtAclqo9uL1u",
        "outputId": "c6257a1d-6485-4788-fcd2-a7dd9d2e6190"
      },
      "execution_count": null,
      "outputs": [
        {
          "output_type": "execute_result",
          "data": {
            "text/plain": [
              "joy         6761\n",
              "sadness     5797\n",
              "anger       2709\n",
              "fear        2373\n",
              "love        1641\n",
              "surprise     719\n",
              "Name: Emotion, dtype: int64"
            ]
          },
          "metadata": {},
          "execution_count": 4
        }
      ]
    },
    {
      "cell_type": "markdown",
      "source": [
        "What are the 5 most common words per emotion? Most common 2-letter combo? 3-letter combo? Write a function to find the most common n-word combination for a particular emotion.\n",
        "\n"
      ],
      "metadata": {
        "id": "ee9tmXYjumId"
      }
    },
    {
      "cell_type": "code",
      "source": [
        "# Imports from nltk, an nlp library.\n",
        "import nltk\n",
        "from collections import Counter\n",
        "from nltk import bigrams, trigrams\n",
        "from nltk.tokenize import word_tokenize\n",
        "nltk.download('punkt_tab')\n",
        "\n",
        "def most_common_ngrams(emotion, n):\n",
        "    text = ' '.join(df[df['Emotion'] == emotion]['Comment'].tolist())\n",
        "    words = word_tokenize(text)\n",
        "    words = [word.lower() for word in words if word.isalpha()]\n",
        "    if n == 1:\n",
        "        return Counter(words).most_common(5)\n",
        "    # TODO: we have implemented the unigram above. The code you will implement\n",
        "    # below is very similar, but for bigram and trigrams. Please refer to the nltk\n",
        "    # imports above for a hint"
      ],
      "metadata": {
        "colab": {
          "base_uri": "https://localhost:8080/"
        },
        "id": "vH-PLshxuOwL",
        "outputId": "c6979e5b-7bbf-4943-bd26-084141d7eaec"
      },
      "execution_count": null,
      "outputs": [
        {
          "output_type": "stream",
          "name": "stderr",
          "text": [
            "[nltk_data] Downloading package punkt to /root/nltk_data...\n",
            "[nltk_data]   Package punkt is already up-to-date!\n"
          ]
        }
      ]
    },
    {
      "cell_type": "code",
      "source": [
        "for emotion in df['Emotion'].unique():\n",
        "  print(emotion)\n",
        "\n",
        "  # Index until 4 because we want unigram, bigram, AND trigrams\n",
        "  for i in range(1, 4):\n",
        "    print(most_common_ngrams(emotion, i))"
      ],
      "metadata": {
        "colab": {
          "base_uri": "https://localhost:8080/"
        },
        "id": "VnT_s2H4xFgK",
        "outputId": "38a2dcef-2a2e-4860-fa30-3e6c6c733180"
      },
      "execution_count": null,
      "outputs": [
        {
          "output_type": "stream",
          "name": "stdout",
          "text": [
            "sadness\n",
            "[(('i', 'feel', 'like'), 468), (('i', 'feel', 'so'), 264), (('feel', 'like', 'i'), 193), (('i', 'was', 'feeling'), 166), (('i', 'am', 'feeling'), 143)]\n",
            "[('i', 9440), ('feel', 4079), ('and', 3372), ('to', 2935), ('the', 2682)]\n",
            "[(('i', 'feel'), 2568), (('i', 'am'), 637), (('feel', 'like'), 618), (('i', 'was'), 516), (('that', 'i'), 457)]\n",
            "anger\n",
            "[(('i', 'feel', 'like'), 236), (('i', 'was', 'feeling'), 101), (('feel', 'like', 'i'), 93), (('i', 'am', 'feeling'), 89), (('i', 'feel', 'so'), 83)]\n",
            "[('i', 4484), ('feel', 1796), ('and', 1584), ('to', 1449), ('the', 1403)]\n",
            "[(('i', 'feel'), 1147), (('i', 'am'), 317), (('feel', 'like'), 305), (('i', 'was'), 270), (('that', 'i'), 218)]\n",
            "love\n",
            "[(('i', 'feel', 'like'), 183), (('feel', 'like', 'i'), 60), (('i', 'feel', 'that'), 58), (('i', 'feel', 'so'), 45), (('i', 'am', 'feeling'), 43)]\n",
            "[('i', 2641), ('feel', 1180), ('and', 1119), ('to', 1049), ('the', 969)]\n",
            "[(('i', 'feel'), 727), (('feel', 'like'), 235), (('i', 'am'), 185), (('that', 'i'), 144), (('to', 'be'), 117)]\n",
            "surprise\n",
            "[(('i', 'feel', 'like'), 48), (('i', 'am', 'feeling'), 24), (('i', 'feel', 'a'), 22), (('feel', 'like', 'i'), 19), (('i', 'was', 'feeling'), 18)]\n",
            "[('i', 1168), ('feel', 462), ('and', 439), ('the', 417), ('to', 345)]\n",
            "[(('i', 'feel'), 274), (('i', 'was'), 83), (('i', 'am'), 82), (('feel', 'like'), 60), (('that', 'i'), 56)]\n",
            "fear\n",
            "[(('i', 'feel', 'like'), 118), (('i', 'am', 'feeling'), 101), (('i', 'was', 'feeling'), 88), (('i', 'feel', 'so'), 76), (('feeling', 'a', 'little'), 67)]\n",
            "[('i', 3782), ('feel', 1479), ('to', 1358), ('and', 1339), ('the', 1224)]\n",
            "[(('i', 'feel'), 876), (('i', 'am'), 312), (('i', 'was'), 265), (('that', 'i'), 170), (('a', 'little'), 159)]\n",
            "joy\n",
            "[(('i', 'feel', 'like'), 572), (('i', 'am', 'feeling'), 239), (('i', 'feel', 'so'), 217), (('feel', 'like', 'i'), 209), (('i', 'feel', 'that'), 208)]\n",
            "[('i', 10727), ('feel', 4942), ('and', 4143), ('to', 4072), ('the', 3767)]\n",
            "[(('i', 'feel'), 3143), (('i', 'am'), 874), (('feel', 'like'), 765), (('that', 'i'), 537), (('i', 'have'), 527)]\n"
          ]
        }
      ]
    },
    {
      "cell_type": "markdown",
      "source": [
        "A lot of meaningless words! \"i', 'and', 'me', etc. These are called **stop words**. These are words to be filtered out before analyzing natural language, because they are meaningless. Stop words are predefined lists of words to be filtered out."
      ],
      "metadata": {
        "id": "pSfzBI5o0ppB"
      }
    },
    {
      "cell_type": "markdown",
      "source": [
        "## Part B: Modeling"
      ],
      "metadata": {
        "id": "gVIQcYg72iss"
      }
    },
    {
      "cell_type": "markdown",
      "source": [
        "### Data split\n",
        "Split our data into 80% train, 20% test."
      ],
      "metadata": {
        "id": "YCLcPzPg3TAK"
      }
    },
    {
      "cell_type": "code",
      "source": [
        "from sklearn.model_selection import train_test_split\n",
        "\n",
        "X = df['Comment']\n",
        "y = df['Emotion']\n",
        "X_train, X_test, y_train, y_test = train_test_split(X, y, test_size=0.2, random_state=42)"
      ],
      "metadata": {
        "id": "hmo1g0-A3Vo4"
      },
      "execution_count": null,
      "outputs": []
    },
    {
      "cell_type": "markdown",
      "source": [
        "### Word Embeddings"
      ],
      "metadata": {
        "id": "Ooc-I_0GhbuM"
      }
    },
    {
      "cell_type": "markdown",
      "source": [
        "Word embeddings are a technique for transforming text data into numerical, vectorized form. One popular approach is Word2Vec, which creates vector representations of words by leveraging the surrounding context to capture semantic and syntactic relationships between words in a text corpus.\n",
        "\n",
        "On a more granular level, Word2Vec works by utilizing a shallow neural network to learn the vector representations of words.\n",
        "\n",
        "Given a target word, it aims to predict the context words around it. The model learns by minimizing the difference between the predicted probability distributions and the true one-hot encoded context word vectors.\n",
        "\n",
        "These embeddings are capable of encoding various linguistic properties, such as semantic similarity, analogies, and even some grammatical relationships.\n"
      ],
      "metadata": {
        "id": "ztWbk2ebkF4Z"
      }
    },
    {
      "cell_type": "code",
      "source": [
        "!pip install gensim"
      ],
      "metadata": {
        "colab": {
          "base_uri": "https://localhost:8080/"
        },
        "id": "cMRrYwjghbfe",
        "outputId": "1b498cfd-6294-4602-958e-6604b9ca7a4c"
      },
      "execution_count": null,
      "outputs": [
        {
          "output_type": "stream",
          "name": "stdout",
          "text": [
            "Requirement already satisfied: gensim in /usr/local/lib/python3.10/dist-packages (4.3.2)\n",
            "Requirement already satisfied: numpy>=1.18.5 in /usr/local/lib/python3.10/dist-packages (from gensim) (1.23.5)\n",
            "Requirement already satisfied: scipy>=1.7.0 in /usr/local/lib/python3.10/dist-packages (from gensim) (1.11.4)\n",
            "Requirement already satisfied: smart-open>=1.8.1 in /usr/local/lib/python3.10/dist-packages (from gensim) (6.4.0)\n"
          ]
        }
      ]
    },
    {
      "cell_type": "markdown",
      "source": [],
      "metadata": {
        "id": "ClzV-wOpl2dR"
      }
    },
    {
      "cell_type": "code",
      "source": [
        "from gensim.models import Word2Vec, KeyedVectors\n",
        "import numpy as np\n",
        "\n",
        "# Example of loading a pre-trained Word2Vec model (adjust the file path as needed)\n",
        "# model = KeyedVectors.load_word2vec_format('path_to_word2vec_model.bin', binary=True)\n",
        "\n",
        "# If you want to train a Word2Vec model on your data:\n",
        "sentences = [text.split() for text in X_train]  # Tokenizing the text\n",
        "model = Word2Vec(sentences, vector_size=100, window=5, min_count=1, workers=4)\n",
        "\n",
        "# Function to create a document vector by averaging word vectors\n",
        "def document_vector(word2vec_model, doc):\n",
        "    # Remove out-of-vocabulary words\n",
        "    doc = [word for word in doc.split() if word in word2vec_model.wv.key_to_index]\n",
        "    return np.mean(word2vec_model.wv[doc], axis=0) if doc else np.zeros(word2vec_model.vector_size)\n",
        "\n",
        "\n",
        "# Apply the function to your text data\n",
        "# TODO\n",
        "X_train_vectors = ...\n",
        "X_test_vectors = ...\n",
        "\n",
        "# Now you can use X_train_vectors and X_test_vectors for machine learning"
      ],
      "metadata": {
        "id": "22qlsGEHkiDN"
      },
      "execution_count": null,
      "outputs": []
    },
    {
      "cell_type": "code",
      "source": [
        "# 100 features\n",
        "X_train_vectors.shape"
      ],
      "metadata": {
        "colab": {
          "base_uri": "https://localhost:8080/"
        },
        "id": "Osxz91Zyku4m",
        "outputId": "58a65ef2-938b-4598-83ec-b5eb7fcad215"
      },
      "execution_count": null,
      "outputs": [
        {
          "output_type": "execute_result",
          "data": {
            "text/plain": [
              "(16000, 100)"
            ]
          },
          "metadata": {},
          "execution_count": 17
        }
      ]
    },
    {
      "cell_type": "markdown",
      "source": [
        "Now it's easy to train a logistic regression with our tabular data."
      ],
      "metadata": {
        "id": "LiFKm5zmlDf0"
      }
    },
    {
      "cell_type": "code",
      "source": [
        "# Assuming X_train_vectors and X_test_vectors are already created using Word2Vec embeddings\n",
        "from sklearn.linear_model import LogisticRegression\n",
        "\n",
        "# Training a Logistic Regression model. Use the .fit() and .predict() methods.\n",
        "# TODO\n",
        "\n",
        "# Define the Logistic Regression\n",
        "logreg_model =\n",
        "\n",
        "# Fit the model to the training data\n",
        "\n",
        "\n",
        "# Making predictions\n",
        "y_train_pred_w2v =\n",
        "y_test_pred_w2v =\n",
        "\n",
        "# Computing accuracies\n",
        "train_accuracy_w2v =\n",
        "test_accuracy_w2v =\n",
        "# END TODO\n",
        "\n",
        "print(\"Word2Vec + Logistic Regression\")\n",
        "print(\"Train Accuracy:\", train_accuracy_w2v)\n",
        "print(\"Test Accuracy:\", test_accuracy_w2v)\n",
        "\n"
      ],
      "metadata": {
        "colab": {
          "base_uri": "https://localhost:8080/",
          "height": 112
        },
        "id": "gbgIhwC5k1Pa",
        "outputId": "1876c758-b9cb-4d88-f5fa-1c17bc16ec7f"
      },
      "execution_count": null,
      "outputs": [
        {
          "output_type": "execute_result",
          "data": {
            "text/plain": [
              "                            Model  Train Accuracy  Test Accuracy\n",
              "0    TF-IDF + Logistic Regression        0.937937        0.85775\n",
              "1  Word2Vec + Logistic Regression        0.382437        0.37100"
            ],
            "text/html": [
              "\n",
              "  <div id=\"df-2203aba1-a6fe-4f21-891f-0d278ad7ce9b\" class=\"colab-df-container\">\n",
              "    <div>\n",
              "<style scoped>\n",
              "    .dataframe tbody tr th:only-of-type {\n",
              "        vertical-align: middle;\n",
              "    }\n",
              "\n",
              "    .dataframe tbody tr th {\n",
              "        vertical-align: top;\n",
              "    }\n",
              "\n",
              "    .dataframe thead th {\n",
              "        text-align: right;\n",
              "    }\n",
              "</style>\n",
              "<table border=\"1\" class=\"dataframe\">\n",
              "  <thead>\n",
              "    <tr style=\"text-align: right;\">\n",
              "      <th></th>\n",
              "      <th>Model</th>\n",
              "      <th>Train Accuracy</th>\n",
              "      <th>Test Accuracy</th>\n",
              "    </tr>\n",
              "  </thead>\n",
              "  <tbody>\n",
              "    <tr>\n",
              "      <th>0</th>\n",
              "      <td>TF-IDF + Logistic Regression</td>\n",
              "      <td>0.937937</td>\n",
              "      <td>0.85775</td>\n",
              "    </tr>\n",
              "    <tr>\n",
              "      <th>1</th>\n",
              "      <td>Word2Vec + Logistic Regression</td>\n",
              "      <td>0.382437</td>\n",
              "      <td>0.37100</td>\n",
              "    </tr>\n",
              "  </tbody>\n",
              "</table>\n",
              "</div>\n",
              "    <div class=\"colab-df-buttons\">\n",
              "\n",
              "  <div class=\"colab-df-container\">\n",
              "    <button class=\"colab-df-convert\" onclick=\"convertToInteractive('df-2203aba1-a6fe-4f21-891f-0d278ad7ce9b')\"\n",
              "            title=\"Convert this dataframe to an interactive table.\"\n",
              "            style=\"display:none;\">\n",
              "\n",
              "  <svg xmlns=\"http://www.w3.org/2000/svg\" height=\"24px\" viewBox=\"0 -960 960 960\">\n",
              "    <path d=\"M120-120v-720h720v720H120Zm60-500h600v-160H180v160Zm220 220h160v-160H400v160Zm0 220h160v-160H400v160ZM180-400h160v-160H180v160Zm440 0h160v-160H620v160ZM180-180h160v-160H180v160Zm440 0h160v-160H620v160Z\"/>\n",
              "  </svg>\n",
              "    </button>\n",
              "\n",
              "  <style>\n",
              "    .colab-df-container {\n",
              "      display:flex;\n",
              "      gap: 12px;\n",
              "    }\n",
              "\n",
              "    .colab-df-convert {\n",
              "      background-color: #E8F0FE;\n",
              "      border: none;\n",
              "      border-radius: 50%;\n",
              "      cursor: pointer;\n",
              "      display: none;\n",
              "      fill: #1967D2;\n",
              "      height: 32px;\n",
              "      padding: 0 0 0 0;\n",
              "      width: 32px;\n",
              "    }\n",
              "\n",
              "    .colab-df-convert:hover {\n",
              "      background-color: #E2EBFA;\n",
              "      box-shadow: 0px 1px 2px rgba(60, 64, 67, 0.3), 0px 1px 3px 1px rgba(60, 64, 67, 0.15);\n",
              "      fill: #174EA6;\n",
              "    }\n",
              "\n",
              "    .colab-df-buttons div {\n",
              "      margin-bottom: 4px;\n",
              "    }\n",
              "\n",
              "    [theme=dark] .colab-df-convert {\n",
              "      background-color: #3B4455;\n",
              "      fill: #D2E3FC;\n",
              "    }\n",
              "\n",
              "    [theme=dark] .colab-df-convert:hover {\n",
              "      background-color: #434B5C;\n",
              "      box-shadow: 0px 1px 3px 1px rgba(0, 0, 0, 0.15);\n",
              "      filter: drop-shadow(0px 1px 2px rgba(0, 0, 0, 0.3));\n",
              "      fill: #FFFFFF;\n",
              "    }\n",
              "  </style>\n",
              "\n",
              "    <script>\n",
              "      const buttonEl =\n",
              "        document.querySelector('#df-2203aba1-a6fe-4f21-891f-0d278ad7ce9b button.colab-df-convert');\n",
              "      buttonEl.style.display =\n",
              "        google.colab.kernel.accessAllowed ? 'block' : 'none';\n",
              "\n",
              "      async function convertToInteractive(key) {\n",
              "        const element = document.querySelector('#df-2203aba1-a6fe-4f21-891f-0d278ad7ce9b');\n",
              "        const dataTable =\n",
              "          await google.colab.kernel.invokeFunction('convertToInteractive',\n",
              "                                                    [key], {});\n",
              "        if (!dataTable) return;\n",
              "\n",
              "        const docLinkHtml = 'Like what you see? Visit the ' +\n",
              "          '<a target=\"_blank\" href=https://colab.research.google.com/notebooks/data_table.ipynb>data table notebook</a>'\n",
              "          + ' to learn more about interactive tables.';\n",
              "        element.innerHTML = '';\n",
              "        dataTable['output_type'] = 'display_data';\n",
              "        await google.colab.output.renderOutput(dataTable, element);\n",
              "        const docLink = document.createElement('div');\n",
              "        docLink.innerHTML = docLinkHtml;\n",
              "        element.appendChild(docLink);\n",
              "      }\n",
              "    </script>\n",
              "  </div>\n",
              "\n",
              "\n",
              "<div id=\"df-0b4de94b-e26d-4fef-976b-e9cbf5976f30\">\n",
              "  <button class=\"colab-df-quickchart\" onclick=\"quickchart('df-0b4de94b-e26d-4fef-976b-e9cbf5976f30')\"\n",
              "            title=\"Suggest charts\"\n",
              "            style=\"display:none;\">\n",
              "\n",
              "<svg xmlns=\"http://www.w3.org/2000/svg\" height=\"24px\"viewBox=\"0 0 24 24\"\n",
              "     width=\"24px\">\n",
              "    <g>\n",
              "        <path d=\"M19 3H5c-1.1 0-2 .9-2 2v14c0 1.1.9 2 2 2h14c1.1 0 2-.9 2-2V5c0-1.1-.9-2-2-2zM9 17H7v-7h2v7zm4 0h-2V7h2v10zm4 0h-2v-4h2v4z\"/>\n",
              "    </g>\n",
              "</svg>\n",
              "  </button>\n",
              "\n",
              "<style>\n",
              "  .colab-df-quickchart {\n",
              "      --bg-color: #E8F0FE;\n",
              "      --fill-color: #1967D2;\n",
              "      --hover-bg-color: #E2EBFA;\n",
              "      --hover-fill-color: #174EA6;\n",
              "      --disabled-fill-color: #AAA;\n",
              "      --disabled-bg-color: #DDD;\n",
              "  }\n",
              "\n",
              "  [theme=dark] .colab-df-quickchart {\n",
              "      --bg-color: #3B4455;\n",
              "      --fill-color: #D2E3FC;\n",
              "      --hover-bg-color: #434B5C;\n",
              "      --hover-fill-color: #FFFFFF;\n",
              "      --disabled-bg-color: #3B4455;\n",
              "      --disabled-fill-color: #666;\n",
              "  }\n",
              "\n",
              "  .colab-df-quickchart {\n",
              "    background-color: var(--bg-color);\n",
              "    border: none;\n",
              "    border-radius: 50%;\n",
              "    cursor: pointer;\n",
              "    display: none;\n",
              "    fill: var(--fill-color);\n",
              "    height: 32px;\n",
              "    padding: 0;\n",
              "    width: 32px;\n",
              "  }\n",
              "\n",
              "  .colab-df-quickchart:hover {\n",
              "    background-color: var(--hover-bg-color);\n",
              "    box-shadow: 0 1px 2px rgba(60, 64, 67, 0.3), 0 1px 3px 1px rgba(60, 64, 67, 0.15);\n",
              "    fill: var(--button-hover-fill-color);\n",
              "  }\n",
              "\n",
              "  .colab-df-quickchart-complete:disabled,\n",
              "  .colab-df-quickchart-complete:disabled:hover {\n",
              "    background-color: var(--disabled-bg-color);\n",
              "    fill: var(--disabled-fill-color);\n",
              "    box-shadow: none;\n",
              "  }\n",
              "\n",
              "  .colab-df-spinner {\n",
              "    border: 2px solid var(--fill-color);\n",
              "    border-color: transparent;\n",
              "    border-bottom-color: var(--fill-color);\n",
              "    animation:\n",
              "      spin 1s steps(1) infinite;\n",
              "  }\n",
              "\n",
              "  @keyframes spin {\n",
              "    0% {\n",
              "      border-color: transparent;\n",
              "      border-bottom-color: var(--fill-color);\n",
              "      border-left-color: var(--fill-color);\n",
              "    }\n",
              "    20% {\n",
              "      border-color: transparent;\n",
              "      border-left-color: var(--fill-color);\n",
              "      border-top-color: var(--fill-color);\n",
              "    }\n",
              "    30% {\n",
              "      border-color: transparent;\n",
              "      border-left-color: var(--fill-color);\n",
              "      border-top-color: var(--fill-color);\n",
              "      border-right-color: var(--fill-color);\n",
              "    }\n",
              "    40% {\n",
              "      border-color: transparent;\n",
              "      border-right-color: var(--fill-color);\n",
              "      border-top-color: var(--fill-color);\n",
              "    }\n",
              "    60% {\n",
              "      border-color: transparent;\n",
              "      border-right-color: var(--fill-color);\n",
              "    }\n",
              "    80% {\n",
              "      border-color: transparent;\n",
              "      border-right-color: var(--fill-color);\n",
              "      border-bottom-color: var(--fill-color);\n",
              "    }\n",
              "    90% {\n",
              "      border-color: transparent;\n",
              "      border-bottom-color: var(--fill-color);\n",
              "    }\n",
              "  }\n",
              "</style>\n",
              "\n",
              "  <script>\n",
              "    async function quickchart(key) {\n",
              "      const quickchartButtonEl =\n",
              "        document.querySelector('#' + key + ' button');\n",
              "      quickchartButtonEl.disabled = true;  // To prevent multiple clicks.\n",
              "      quickchartButtonEl.classList.add('colab-df-spinner');\n",
              "      try {\n",
              "        const charts = await google.colab.kernel.invokeFunction(\n",
              "            'suggestCharts', [key], {});\n",
              "      } catch (error) {\n",
              "        console.error('Error during call to suggestCharts:', error);\n",
              "      }\n",
              "      quickchartButtonEl.classList.remove('colab-df-spinner');\n",
              "      quickchartButtonEl.classList.add('colab-df-quickchart-complete');\n",
              "    }\n",
              "    (() => {\n",
              "      let quickchartButtonEl =\n",
              "        document.querySelector('#df-0b4de94b-e26d-4fef-976b-e9cbf5976f30 button');\n",
              "      quickchartButtonEl.style.display =\n",
              "        google.colab.kernel.accessAllowed ? 'block' : 'none';\n",
              "    })();\n",
              "  </script>\n",
              "</div>\n",
              "    </div>\n",
              "  </div>\n"
            ]
          },
          "metadata": {},
          "execution_count": 18
        }
      ]
    },
    {
      "cell_type": "markdown",
      "source": [
        "It's pretty bad! How come?"
      ],
      "metadata": {
        "id": "FkNc6vhelVU2"
      }
    },
    {
      "cell_type": "code",
      "source": [
        "df['Emotion'].value_counts()"
      ],
      "metadata": {
        "colab": {
          "base_uri": "https://localhost:8080/"
        },
        "id": "6pIuFwS-lU_y",
        "outputId": "e17e7566-dc54-4f00-b1d6-d021da29b326"
      },
      "execution_count": null,
      "outputs": [
        {
          "output_type": "execute_result",
          "data": {
            "text/plain": [
              "joy         6761\n",
              "sadness     5797\n",
              "anger       2709\n",
              "fear        2373\n",
              "love        1641\n",
              "surprise     719\n",
              "Name: Emotion, dtype: int64"
            ]
          },
          "metadata": {},
          "execution_count": 19
        }
      ]
    },
    {
      "cell_type": "markdown",
      "source": [
        "Remember that the data is very imbalanced - 'surprise' only has 719 data points. Word2Vec can't collect the semantic and syntactic of words properly, and it needs large training data to learn the word representation. TF-IDF, which is one of the optional activities below, on the other hand is effective even with a small number of data."
      ],
      "metadata": {
        "id": "zdAcSTl1ln4b"
      }
    },
    {
      "cell_type": "markdown",
      "source": [
        "### Recurrent Neural Network"
      ],
      "metadata": {
        "id": "rd8a4FSqhgaO"
      }
    },
    {
      "cell_type": "markdown",
      "source": [
        "RNNs are deep neural networks with recurrent connections, meaning that they allow the output from certain nodes to affect the *input* into the same node (not just the next node as in a typical forward neural network). They can use internal memory to process arbitrary input sequences, which lends well to text data."
      ],
      "metadata": {
        "id": "twvx1ikshbQb"
      }
    },
    {
      "cell_type": "markdown",
      "source": [
        "![ezgif-2-29ee941273.jpeg](data:image/jpeg;base64,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)"
      ],
      "metadata": {
        "id": "Ism2kGODAQdQ"
      }
    },
    {
      "cell_type": "code",
      "source": [
        "import torch\n",
        "from torch.utils.data import DataLoader, TensorDataset\n",
        "from torch.nn.utils.rnn import pad_sequence\n",
        "from torchtext.data.utils import get_tokenizer\n",
        "from torchtext.vocab import build_vocab_from_iterator\n",
        "import torch.nn as nn\n",
        "import torch.optim as optim\n",
        "from tqdm import tqdm\n",
        "\n",
        "# Assume X_train, X_test, y_train, y_test are already defined with text data and labels\n",
        "\n",
        "# Tokenization and Vocabulary Building\n",
        "tokenizer = get_tokenizer('basic_english')\n",
        "def yield_tokens(data_iter):\n",
        "    for text in data_iter:\n",
        "        yield tokenizer(text)\n",
        "\n",
        "vocab = build_vocab_from_iterator(yield_tokens(X_train), specials=[\"<unk>\"])\n",
        "vocab.set_default_index(vocab[\"<unk>\"])\n",
        "\n",
        "# Assuming y_train contains categorical labels\n",
        "unique_labels = set(y_train)\n",
        "label_to_index = {label: index for index, label in enumerate(unique_labels)}\n",
        "\n",
        "# Text and Label Processing\n",
        "text_pipeline = lambda x: vocab(tokenizer(x))\n",
        "label_pipeline = lambda label: label_to_index[label]  # Define label_to_index based on your labels\n",
        "\n",
        "# Convert datasets to TensorDatasets\n",
        "def process_data(X, y):\n",
        "    processed_text = [torch.tensor(text_pipeline(x), dtype=torch.int64) for x in X]\n",
        "    processed_label = torch.tensor([label_pipeline(label) for label in y], dtype=torch.int64)\n",
        "    return TensorDataset(pad_sequence(processed_text, batch_first=True), processed_label)\n",
        "\n",
        "train_dataset = process_data(X_train, y_train)\n",
        "test_dataset = process_data(X_test, y_test)\n",
        "\n",
        "# Create DataLoaders\n",
        "batch_size = 32\n",
        "train_loader = DataLoader(train_dataset, batch_size=batch_size, shuffle=True)\n",
        "test_loader = DataLoader(test_dataset, batch_size=batch_size)\n",
        "\n",
        "# Define a simple RNN model. Use torch.nn layers.\n",
        "# TODO\n",
        "class SimpleRNN(nn.Module):\n",
        "    def __init__(self, vocab_size, embed_dim, hidden_dim, output_dim):\n",
        "        super(SimpleRNN, self).__init__()\n",
        "        self.embedding =\n",
        "        self.rnn =\n",
        "        self.fc =\n",
        "\n",
        "    def forward(self, x):\n",
        "        embedded =\n",
        "        _, hidden =\n",
        "        return\n",
        "\n",
        "# Instantiate the model\n",
        "model = SimpleRNN(len(vocab), embed_dim=100, hidden_dim=256, output_dim=len(set(y_train)))\n",
        "\n",
        "# Loss and Optimizer. Loss should be cross entropy, optimizer is up to you.\n",
        "criterion =\n",
        "optimizer =\n",
        "\n",
        "# Training Loop\n",
        "for epoch in tqdm(range(1)):  # Number of epochs\n",
        "    for text, labels in tqdm(train_loader):\n",
        "        ...\n",
        "\n",
        "# END TODO\n",
        "\n",
        "# Evaluate the model\n",
        "model.eval()\n",
        "total_accuracy = 0\n",
        "with torch.no_grad():\n",
        "    for text, labels in test_loader:\n",
        "        output = model(text)\n",
        "        total_accuracy += (output.argmax(1) == labels).float().mean().item()\n",
        "accuracy = total_accuracy / len(test_loader)\n",
        "print(f\"Test Accuracy: {accuracy}\")\n"
      ],
      "metadata": {
        "colab": {
          "base_uri": "https://localhost:8080/"
        },
        "id": "FZ7ACTeGhIZL",
        "outputId": "340872c7-131a-4b3a-f2e9-49c8b2b18545"
      },
      "execution_count": null,
      "outputs": [
        {
          "output_type": "stream",
          "name": "stderr",
          "text": [
            "  0%|          | 0/1 [00:00<?, ?it/s]\n",
            "  0%|          | 0/500 [00:00<?, ?it/s]\u001b[A\n",
            "  0%|          | 1/500 [00:00<02:37,  3.16it/s]\u001b[A\n",
            "  1%|          | 3/500 [00:00<01:10,  7.03it/s]\u001b[A\n",
            "  1%|          | 4/500 [00:00<01:09,  7.10it/s]\u001b[A\n",
            "  1%|          | 5/500 [00:00<01:10,  7.00it/s]\u001b[A\n",
            "  1%|▏         | 7/500 [00:00<00:56,  8.80it/s]\u001b[A\n",
            "  2%|▏         | 9/500 [00:01<00:48, 10.19it/s]\u001b[A\n",
            "  2%|▏         | 11/500 [00:01<00:54,  9.02it/s]\u001b[A\n",
            "  2%|▏         | 12/500 [00:01<00:53,  9.07it/s]\u001b[A\n",
            "  3%|▎         | 14/500 [00:01<00:48, 10.00it/s]\u001b[A\n",
            "  3%|▎         | 16/500 [00:01<00:46, 10.46it/s]\u001b[A\n",
            "  4%|▎         | 18/500 [00:01<00:41, 11.62it/s]\u001b[A\n",
            "  4%|▍         | 20/500 [00:02<00:43, 10.96it/s]\u001b[A\n",
            "  4%|▍         | 22/500 [00:02<00:41, 11.54it/s]\u001b[A\n",
            "  5%|▍         | 24/500 [00:02<00:41, 11.57it/s]\u001b[A\n",
            "  5%|▌         | 26/500 [00:02<00:38, 12.34it/s]\u001b[A\n",
            "  6%|▌         | 28/500 [00:02<00:41, 11.25it/s]\u001b[A\n",
            "  6%|▌         | 30/500 [00:02<00:39, 11.92it/s]\u001b[A\n",
            "  6%|▋         | 32/500 [00:03<00:48,  9.75it/s]\u001b[A\n",
            "  7%|▋         | 34/500 [00:03<00:52,  8.83it/s]\u001b[A\n",
            "  7%|▋         | 36/500 [00:03<00:47,  9.77it/s]\u001b[A\n",
            "  8%|▊         | 38/500 [00:03<00:46,  9.89it/s]\u001b[A\n",
            "  8%|▊         | 40/500 [00:04<00:43, 10.62it/s]\u001b[A\n",
            "  8%|▊         | 42/500 [00:04<00:42, 10.74it/s]\u001b[A\n",
            "  9%|▉         | 44/500 [00:04<00:42, 10.74it/s]\u001b[A\n",
            "  9%|▉         | 46/500 [00:04<00:50,  8.99it/s]\u001b[A\n",
            " 10%|▉         | 48/500 [00:04<00:45,  9.87it/s]\u001b[A\n",
            " 10%|█         | 50/500 [00:05<00:50,  8.95it/s]\u001b[A\n",
            " 10%|█         | 51/500 [00:05<00:50,  8.87it/s]\u001b[A\n",
            " 11%|█         | 53/500 [00:05<00:50,  8.82it/s]\u001b[A\n",
            " 11%|█         | 55/500 [00:05<00:48,  9.08it/s]\u001b[A\n",
            " 11%|█         | 56/500 [00:05<00:55,  8.07it/s]\u001b[A\n",
            " 11%|█▏        | 57/500 [00:05<00:55,  8.01it/s]\u001b[A\n",
            " 12%|█▏        | 58/500 [00:06<00:58,  7.54it/s]\u001b[A\n",
            " 12%|█▏        | 59/500 [00:06<01:00,  7.34it/s]\u001b[A\n",
            " 12%|█▏        | 60/500 [00:06<00:59,  7.33it/s]\u001b[A\n",
            " 12%|█▏        | 61/500 [00:06<01:01,  7.16it/s]\u001b[A\n",
            " 12%|█▏        | 62/500 [00:06<00:59,  7.30it/s]\u001b[A\n",
            " 13%|█▎        | 63/500 [00:06<00:58,  7.41it/s]\u001b[A\n",
            " 13%|█▎        | 64/500 [00:07<01:02,  6.94it/s]\u001b[A\n",
            " 13%|█▎        | 66/500 [00:07<00:50,  8.54it/s]\u001b[A\n",
            " 14%|█▎        | 68/500 [00:07<00:44,  9.67it/s]\u001b[A\n",
            " 14%|█▍        | 69/500 [00:07<00:45,  9.45it/s]\u001b[A\n",
            " 14%|█▍        | 70/500 [00:07<00:52,  8.17it/s]\u001b[A\n",
            " 14%|█▍        | 71/500 [00:07<00:57,  7.43it/s]\u001b[A\n",
            " 14%|█▍        | 72/500 [00:08<01:06,  6.46it/s]\u001b[A\n",
            " 15%|█▍        | 73/500 [00:08<01:13,  5.78it/s]\u001b[A\n",
            " 15%|█▍        | 74/500 [00:08<01:11,  5.95it/s]\u001b[A\n",
            " 15%|█▌        | 75/500 [00:08<01:07,  6.31it/s]\u001b[A\n",
            " 15%|█▌        | 76/500 [00:08<01:04,  6.57it/s]\u001b[A\n",
            " 16%|█▌        | 78/500 [00:08<00:49,  8.49it/s]\u001b[A\n",
            " 16%|█▌        | 79/500 [00:08<00:51,  8.14it/s]\u001b[A\n",
            " 16%|█▌        | 80/500 [00:09<00:53,  7.90it/s]\u001b[A\n",
            " 16%|█▌        | 81/500 [00:09<00:52,  8.05it/s]\u001b[A\n",
            " 17%|█▋        | 83/500 [00:09<00:45,  9.10it/s]\u001b[A\n",
            " 17%|█▋        | 85/500 [00:09<00:41, 10.06it/s]\u001b[A\n",
            " 17%|█▋        | 87/500 [00:09<00:37, 11.05it/s]\u001b[A\n",
            " 18%|█▊        | 89/500 [00:09<00:33, 12.10it/s]\u001b[A\n",
            " 18%|█▊        | 91/500 [00:09<00:32, 12.52it/s]\u001b[A\n",
            " 19%|█▊        | 93/500 [00:10<00:36, 11.20it/s]\u001b[A\n",
            " 19%|█▉        | 95/500 [00:10<00:41,  9.83it/s]\u001b[A\n",
            " 19%|█▉        | 97/500 [00:10<00:38, 10.43it/s]\u001b[A\n",
            " 20%|█▉        | 99/500 [00:10<00:38, 10.44it/s]\u001b[A\n",
            " 20%|██        | 101/500 [00:10<00:36, 11.06it/s]\u001b[A\n",
            " 21%|██        | 103/500 [00:11<00:40,  9.90it/s]\u001b[A\n",
            " 21%|██        | 105/500 [00:11<00:37, 10.42it/s]\u001b[A\n",
            " 21%|██▏       | 107/500 [00:11<00:35, 11.04it/s]\u001b[A\n",
            " 22%|██▏       | 109/500 [00:11<00:37, 10.55it/s]\u001b[A\n",
            " 22%|██▏       | 111/500 [00:11<00:35, 11.10it/s]\u001b[A\n",
            " 23%|██▎       | 113/500 [00:12<00:34, 11.29it/s]\u001b[A\n",
            " 23%|██▎       | 115/500 [00:12<00:34, 11.07it/s]\u001b[A\n",
            " 23%|██▎       | 117/500 [00:12<00:34, 11.22it/s]\u001b[A\n",
            " 24%|██▍       | 119/500 [00:12<00:31, 12.29it/s]\u001b[A\n",
            " 24%|██▍       | 121/500 [00:12<00:28, 13.15it/s]\u001b[A\n",
            " 25%|██▍       | 123/500 [00:12<00:27, 13.58it/s]\u001b[A\n",
            " 25%|██▌       | 125/500 [00:12<00:27, 13.53it/s]\u001b[A\n",
            " 25%|██▌       | 127/500 [00:13<00:27, 13.71it/s]\u001b[A\n",
            " 26%|██▌       | 129/500 [00:13<00:26, 14.05it/s]\u001b[A\n",
            " 26%|██▌       | 131/500 [00:13<00:25, 14.26it/s]\u001b[A\n",
            " 27%|██▋       | 133/500 [00:13<00:25, 14.46it/s]\u001b[A\n",
            " 27%|██▋       | 135/500 [00:13<00:25, 14.55it/s]\u001b[A\n",
            " 27%|██▋       | 137/500 [00:13<00:24, 14.60it/s]\u001b[A\n",
            " 28%|██▊       | 139/500 [00:13<00:25, 14.37it/s]\u001b[A\n",
            " 28%|██▊       | 141/500 [00:14<00:24, 14.66it/s]\u001b[A\n",
            " 29%|██▊       | 143/500 [00:14<00:24, 14.66it/s]\u001b[A\n",
            " 29%|██▉       | 145/500 [00:14<00:24, 14.69it/s]\u001b[A\n",
            " 29%|██▉       | 147/500 [00:14<00:24, 14.16it/s]\u001b[A\n",
            " 30%|██▉       | 149/500 [00:14<00:27, 12.90it/s]\u001b[A\n",
            " 30%|███       | 151/500 [00:14<00:26, 12.93it/s]\u001b[A\n",
            " 31%|███       | 153/500 [00:15<00:27, 12.75it/s]\u001b[A\n",
            " 31%|███       | 155/500 [00:15<00:26, 13.05it/s]\u001b[A\n",
            " 31%|███▏      | 157/500 [00:15<00:26, 13.09it/s]\u001b[A\n",
            " 32%|███▏      | 159/500 [00:15<00:29, 11.41it/s]\u001b[A\n",
            " 32%|███▏      | 161/500 [00:15<00:28, 12.04it/s]\u001b[A\n",
            " 33%|███▎      | 163/500 [00:15<00:25, 12.99it/s]\u001b[A\n",
            " 33%|███▎      | 165/500 [00:15<00:24, 13.49it/s]\u001b[A\n",
            " 33%|███▎      | 167/500 [00:16<00:24, 13.59it/s]\u001b[A\n",
            " 34%|███▍      | 170/500 [00:16<00:20, 16.25it/s]\u001b[A\n",
            " 35%|███▍      | 173/500 [00:16<00:17, 18.22it/s]\u001b[A\n",
            " 35%|███▌      | 176/500 [00:16<00:16, 19.14it/s]\u001b[A\n",
            " 36%|███▌      | 179/500 [00:16<00:16, 19.97it/s]\u001b[A\n",
            " 36%|███▋      | 182/500 [00:16<00:15, 20.98it/s]\u001b[A\n",
            " 37%|███▋      | 185/500 [00:16<00:14, 21.56it/s]\u001b[A\n",
            " 38%|███▊      | 188/500 [00:17<00:14, 21.88it/s]\u001b[A\n",
            " 38%|███▊      | 191/500 [00:17<00:14, 21.98it/s]\u001b[A\n",
            " 39%|███▉      | 194/500 [00:17<00:13, 22.05it/s]\u001b[A\n",
            " 39%|███▉      | 197/500 [00:17<00:13, 22.34it/s]\u001b[A\n",
            " 40%|████      | 200/500 [00:17<00:13, 22.51it/s]\u001b[A\n",
            " 41%|████      | 203/500 [00:17<00:13, 22.75it/s]\u001b[A\n",
            " 41%|████      | 206/500 [00:17<00:12, 23.14it/s]\u001b[A\n",
            " 42%|████▏     | 209/500 [00:17<00:12, 23.04it/s]\u001b[A\n",
            " 42%|████▏     | 212/500 [00:18<00:12, 22.82it/s]\u001b[A\n",
            " 43%|████▎     | 215/500 [00:18<00:12, 23.36it/s]\u001b[A\n",
            " 44%|████▎     | 218/500 [00:18<00:12, 23.30it/s]\u001b[A\n",
            " 44%|████▍     | 221/500 [00:18<00:12, 22.72it/s]\u001b[A\n",
            " 45%|████▍     | 224/500 [00:18<00:12, 22.78it/s]\u001b[A\n",
            " 45%|████▌     | 227/500 [00:18<00:12, 22.29it/s]\u001b[A\n",
            " 46%|████▌     | 230/500 [00:18<00:11, 22.57it/s]\u001b[A\n",
            " 47%|████▋     | 233/500 [00:18<00:11, 22.89it/s]\u001b[A\n",
            " 47%|████▋     | 236/500 [00:19<00:11, 22.39it/s]\u001b[A\n",
            " 48%|████▊     | 239/500 [00:19<00:11, 22.42it/s]\u001b[A\n",
            " 48%|████▊     | 242/500 [00:19<00:11, 22.24it/s]\u001b[A\n",
            " 49%|████▉     | 245/500 [00:19<00:11, 22.14it/s]\u001b[A\n",
            " 50%|████▉     | 248/500 [00:19<00:11, 22.55it/s]\u001b[A\n",
            " 50%|█████     | 251/500 [00:19<00:10, 22.68it/s]\u001b[A\n",
            " 51%|█████     | 254/500 [00:19<00:10, 23.21it/s]\u001b[A\n",
            " 51%|█████▏    | 257/500 [00:20<00:10, 23.47it/s]\u001b[A\n",
            " 52%|█████▏    | 260/500 [00:20<00:10, 22.83it/s]\u001b[A\n",
            " 53%|█████▎    | 263/500 [00:20<00:10, 23.18it/s]\u001b[A\n",
            " 53%|█████▎    | 266/500 [00:20<00:10, 23.14it/s]\u001b[A\n",
            " 54%|█████▍    | 269/500 [00:20<00:09, 23.37it/s]\u001b[A\n",
            " 54%|█████▍    | 272/500 [00:20<00:09, 23.71it/s]\u001b[A\n",
            " 55%|█████▌    | 275/500 [00:20<00:09, 23.73it/s]\u001b[A\n",
            " 56%|█████▌    | 278/500 [00:20<00:09, 23.23it/s]\u001b[A\n",
            " 56%|█████▌    | 281/500 [00:21<00:09, 22.82it/s]\u001b[A\n",
            " 57%|█████▋    | 284/500 [00:21<00:09, 22.47it/s]\u001b[A\n",
            " 57%|█████▋    | 287/500 [00:21<00:09, 23.04it/s]\u001b[A\n",
            " 58%|█████▊    | 290/500 [00:21<00:09, 22.89it/s]\u001b[A\n",
            " 59%|█████▊    | 293/500 [00:21<00:09, 22.91it/s]\u001b[A\n",
            " 59%|█████▉    | 296/500 [00:21<00:08, 23.22it/s]\u001b[A\n",
            " 60%|█████▉    | 299/500 [00:21<00:08, 23.12it/s]\u001b[A\n",
            " 60%|██████    | 302/500 [00:21<00:08, 23.25it/s]\u001b[A\n",
            " 61%|██████    | 305/500 [00:22<00:08, 23.61it/s]\u001b[A\n",
            " 62%|██████▏   | 308/500 [00:22<00:08, 23.01it/s]\u001b[A\n",
            " 62%|██████▏   | 311/500 [00:22<00:08, 23.08it/s]\u001b[A\n",
            " 63%|██████▎   | 314/500 [00:22<00:08, 21.08it/s]\u001b[A\n",
            " 63%|██████▎   | 317/500 [00:22<00:08, 20.34it/s]\u001b[A\n",
            " 64%|██████▍   | 320/500 [00:22<00:09, 19.70it/s]\u001b[A\n",
            " 64%|██████▍   | 322/500 [00:22<00:09, 19.08it/s]\u001b[A\n",
            " 65%|██████▍   | 324/500 [00:23<00:09, 18.87it/s]\u001b[A\n",
            " 65%|██████▌   | 326/500 [00:23<00:09, 18.22it/s]\u001b[A\n",
            " 66%|██████▌   | 328/500 [00:23<00:09, 18.20it/s]\u001b[A\n",
            " 66%|██████▌   | 330/500 [00:23<00:09, 17.95it/s]\u001b[A\n",
            " 66%|██████▋   | 332/500 [00:23<00:09, 17.92it/s]\u001b[A\n",
            " 67%|██████▋   | 334/500 [00:23<00:09, 18.25it/s]\u001b[A\n",
            " 67%|██████▋   | 336/500 [00:23<00:08, 18.52it/s]\u001b[A\n",
            " 68%|██████▊   | 338/500 [00:23<00:08, 18.43it/s]\u001b[A\n",
            " 68%|██████▊   | 340/500 [00:23<00:08, 18.70it/s]\u001b[A\n",
            " 68%|██████▊   | 342/500 [00:24<00:08, 18.53it/s]\u001b[A\n",
            " 69%|██████▉   | 344/500 [00:24<00:08, 18.18it/s]\u001b[A\n",
            " 69%|██████▉   | 346/500 [00:24<00:08, 17.64it/s]\u001b[A\n",
            " 70%|██████▉   | 348/500 [00:24<00:08, 17.49it/s]\u001b[A\n",
            " 70%|███████   | 350/500 [00:24<00:08, 17.63it/s]\u001b[A\n",
            " 70%|███████   | 352/500 [00:24<00:08, 17.85it/s]\u001b[A\n",
            " 71%|███████   | 354/500 [00:24<00:07, 18.34it/s]\u001b[A\n",
            " 71%|███████   | 356/500 [00:24<00:07, 18.64it/s]\u001b[A\n",
            " 72%|███████▏  | 358/500 [00:24<00:07, 18.91it/s]\u001b[A\n",
            " 72%|███████▏  | 360/500 [00:25<00:07, 18.85it/s]\u001b[A\n",
            " 72%|███████▏  | 362/500 [00:25<00:07, 18.67it/s]\u001b[A\n",
            " 73%|███████▎  | 364/500 [00:25<00:07, 18.31it/s]\u001b[A\n",
            " 73%|███████▎  | 366/500 [00:25<00:07, 17.78it/s]\u001b[A\n",
            " 74%|███████▎  | 368/500 [00:25<00:07, 17.46it/s]\u001b[A\n",
            " 74%|███████▍  | 370/500 [00:25<00:07, 17.32it/s]\u001b[A\n",
            " 74%|███████▍  | 372/500 [00:25<00:07, 17.23it/s]\u001b[A\n",
            " 75%|███████▍  | 374/500 [00:25<00:07, 17.21it/s]\u001b[A\n",
            " 75%|███████▌  | 376/500 [00:26<00:07, 17.21it/s]\u001b[A\n",
            " 76%|███████▌  | 378/500 [00:26<00:06, 17.48it/s]\u001b[A\n",
            " 76%|███████▌  | 381/500 [00:26<00:06, 19.61it/s]\u001b[A\n",
            " 77%|███████▋  | 384/500 [00:26<00:05, 20.74it/s]\u001b[A\n",
            " 77%|███████▋  | 387/500 [00:26<00:05, 21.70it/s]\u001b[A\n",
            " 78%|███████▊  | 390/500 [00:26<00:04, 22.45it/s]\u001b[A\n",
            " 79%|███████▊  | 393/500 [00:26<00:04, 22.58it/s]\u001b[A\n",
            " 79%|███████▉  | 396/500 [00:26<00:04, 22.89it/s]\u001b[A\n",
            " 80%|███████▉  | 399/500 [00:26<00:04, 23.73it/s]\u001b[A\n",
            " 80%|████████  | 402/500 [00:27<00:04, 23.87it/s]\u001b[A\n",
            " 81%|████████  | 405/500 [00:27<00:04, 23.39it/s]\u001b[A\n",
            " 82%|████████▏ | 408/500 [00:27<00:04, 22.77it/s]\u001b[A\n",
            " 82%|████████▏ | 411/500 [00:27<00:03, 23.10it/s]\u001b[A\n",
            " 83%|████████▎ | 414/500 [00:27<00:03, 23.69it/s]\u001b[A\n",
            " 83%|████████▎ | 417/500 [00:27<00:03, 23.93it/s]\u001b[A\n",
            " 84%|████████▍ | 420/500 [00:27<00:03, 23.81it/s]\u001b[A\n",
            " 85%|████████▍ | 423/500 [00:28<00:03, 23.97it/s]\u001b[A\n",
            " 85%|████████▌ | 426/500 [00:28<00:03, 23.82it/s]\u001b[A\n",
            " 86%|████████▌ | 429/500 [00:28<00:03, 23.48it/s]\u001b[A\n",
            " 86%|████████▋ | 432/500 [00:28<00:02, 23.55it/s]\u001b[A\n",
            " 87%|████████▋ | 435/500 [00:28<00:02, 22.78it/s]\u001b[A\n",
            " 88%|████████▊ | 438/500 [00:28<00:02, 22.80it/s]\u001b[A\n",
            " 88%|████████▊ | 441/500 [00:28<00:02, 22.94it/s]\u001b[A\n",
            " 89%|████████▉ | 444/500 [00:28<00:02, 23.33it/s]\u001b[A\n",
            " 89%|████████▉ | 447/500 [00:29<00:02, 23.53it/s]\u001b[A\n",
            " 90%|█████████ | 450/500 [00:29<00:02, 23.89it/s]\u001b[A\n",
            " 91%|█████████ | 453/500 [00:29<00:01, 24.01it/s]\u001b[A\n",
            " 91%|█████████ | 456/500 [00:29<00:01, 23.97it/s]\u001b[A\n",
            " 92%|█████████▏| 459/500 [00:29<00:01, 23.53it/s]\u001b[A\n",
            " 92%|█████████▏| 462/500 [00:29<00:01, 24.04it/s]\u001b[A\n",
            " 93%|█████████▎| 465/500 [00:29<00:01, 24.45it/s]\u001b[A\n",
            " 94%|█████████▎| 468/500 [00:29<00:01, 24.35it/s]\u001b[A\n",
            " 94%|█████████▍| 471/500 [00:30<00:01, 24.35it/s]\u001b[A\n",
            " 95%|█████████▍| 474/500 [00:30<00:01, 24.48it/s]\u001b[A\n",
            " 95%|█████████▌| 477/500 [00:30<00:00, 24.47it/s]\u001b[A\n",
            " 96%|█████████▌| 480/500 [00:30<00:00, 24.10it/s]\u001b[A\n",
            " 97%|█████████▋| 483/500 [00:30<00:00, 23.70it/s]\u001b[A\n",
            " 97%|█████████▋| 486/500 [00:30<00:00, 23.91it/s]\u001b[A\n",
            " 98%|█████████▊| 489/500 [00:30<00:00, 24.00it/s]\u001b[A\n",
            " 98%|█████████▊| 492/500 [00:30<00:00, 24.12it/s]\u001b[A\n",
            " 99%|█████████▉| 495/500 [00:31<00:00, 24.01it/s]\u001b[A\n",
            "100%|██████████| 500/500 [00:31<00:00, 16.00it/s]\n",
            "100%|██████████| 1/1 [00:31<00:00, 31.26s/it]\n"
          ]
        },
        {
          "output_type": "stream",
          "name": "stdout",
          "text": [
            "Test Accuracy: 0.2935\n"
          ]
        }
      ]
    },
    {
      "cell_type": "code",
      "source": [
        "# Evaluate the model on training data\n",
        "model.eval()\n",
        "train_total_accuracy = 0\n",
        "with torch.no_grad():\n",
        "    for text, labels in train_loader:\n",
        "        output = model(text)\n",
        "        train_total_accuracy += (output.argmax(1) == labels).float().mean().item()\n",
        "train_accuracy = train_total_accuracy / len(train_loader)\n",
        "\n",
        "# Append to DataFrame\n",
        "print(\"Word2Vec + Simple RNN\")\n",
        "print(\"Train Accuracy:\", train_accuracy_w2v)\n",
        "print(\"Test Accuracy:\", test_accuracy_w2v)"
      ],
      "metadata": {
        "colab": {
          "base_uri": "https://localhost:8080/",
          "height": 143
        },
        "id": "Rlq6mnsUsB_O",
        "outputId": "3124d679-be43-4797-f77d-f72e5f64dfcf"
      },
      "execution_count": null,
      "outputs": [
        {
          "output_type": "execute_result",
          "data": {
            "text/plain": [
              "                            Model  Train Accuracy  Test Accuracy\n",
              "0    TF-IDF + Logistic Regression        0.937937        0.85775\n",
              "1  Word2Vec + Logistic Regression        0.382437        0.37100\n",
              "2                      Simple RNN        0.289125        0.29350"
            ],
            "text/html": [
              "\n",
              "  <div id=\"df-3d271fd2-c81d-46af-a635-c0e3dd88b47c\" class=\"colab-df-container\">\n",
              "    <div>\n",
              "<style scoped>\n",
              "    .dataframe tbody tr th:only-of-type {\n",
              "        vertical-align: middle;\n",
              "    }\n",
              "\n",
              "    .dataframe tbody tr th {\n",
              "        vertical-align: top;\n",
              "    }\n",
              "\n",
              "    .dataframe thead th {\n",
              "        text-align: right;\n",
              "    }\n",
              "</style>\n",
              "<table border=\"1\" class=\"dataframe\">\n",
              "  <thead>\n",
              "    <tr style=\"text-align: right;\">\n",
              "      <th></th>\n",
              "      <th>Model</th>\n",
              "      <th>Train Accuracy</th>\n",
              "      <th>Test Accuracy</th>\n",
              "    </tr>\n",
              "  </thead>\n",
              "  <tbody>\n",
              "    <tr>\n",
              "      <th>0</th>\n",
              "      <td>TF-IDF + Logistic Regression</td>\n",
              "      <td>0.937937</td>\n",
              "      <td>0.85775</td>\n",
              "    </tr>\n",
              "    <tr>\n",
              "      <th>1</th>\n",
              "      <td>Word2Vec + Logistic Regression</td>\n",
              "      <td>0.382437</td>\n",
              "      <td>0.37100</td>\n",
              "    </tr>\n",
              "    <tr>\n",
              "      <th>2</th>\n",
              "      <td>Simple RNN</td>\n",
              "      <td>0.289125</td>\n",
              "      <td>0.29350</td>\n",
              "    </tr>\n",
              "  </tbody>\n",
              "</table>\n",
              "</div>\n",
              "    <div class=\"colab-df-buttons\">\n",
              "\n",
              "  <div class=\"colab-df-container\">\n",
              "    <button class=\"colab-df-convert\" onclick=\"convertToInteractive('df-3d271fd2-c81d-46af-a635-c0e3dd88b47c')\"\n",
              "            title=\"Convert this dataframe to an interactive table.\"\n",
              "            style=\"display:none;\">\n",
              "\n",
              "  <svg xmlns=\"http://www.w3.org/2000/svg\" height=\"24px\" viewBox=\"0 -960 960 960\">\n",
              "    <path d=\"M120-120v-720h720v720H120Zm60-500h600v-160H180v160Zm220 220h160v-160H400v160Zm0 220h160v-160H400v160ZM180-400h160v-160H180v160Zm440 0h160v-160H620v160ZM180-180h160v-160H180v160Zm440 0h160v-160H620v160Z\"/>\n",
              "  </svg>\n",
              "    </button>\n",
              "\n",
              "  <style>\n",
              "    .colab-df-container {\n",
              "      display:flex;\n",
              "      gap: 12px;\n",
              "    }\n",
              "\n",
              "    .colab-df-convert {\n",
              "      background-color: #E8F0FE;\n",
              "      border: none;\n",
              "      border-radius: 50%;\n",
              "      cursor: pointer;\n",
              "      display: none;\n",
              "      fill: #1967D2;\n",
              "      height: 32px;\n",
              "      padding: 0 0 0 0;\n",
              "      width: 32px;\n",
              "    }\n",
              "\n",
              "    .colab-df-convert:hover {\n",
              "      background-color: #E2EBFA;\n",
              "      box-shadow: 0px 1px 2px rgba(60, 64, 67, 0.3), 0px 1px 3px 1px rgba(60, 64, 67, 0.15);\n",
              "      fill: #174EA6;\n",
              "    }\n",
              "\n",
              "    .colab-df-buttons div {\n",
              "      margin-bottom: 4px;\n",
              "    }\n",
              "\n",
              "    [theme=dark] .colab-df-convert {\n",
              "      background-color: #3B4455;\n",
              "      fill: #D2E3FC;\n",
              "    }\n",
              "\n",
              "    [theme=dark] .colab-df-convert:hover {\n",
              "      background-color: #434B5C;\n",
              "      box-shadow: 0px 1px 3px 1px rgba(0, 0, 0, 0.15);\n",
              "      filter: drop-shadow(0px 1px 2px rgba(0, 0, 0, 0.3));\n",
              "      fill: #FFFFFF;\n",
              "    }\n",
              "  </style>\n",
              "\n",
              "    <script>\n",
              "      const buttonEl =\n",
              "        document.querySelector('#df-3d271fd2-c81d-46af-a635-c0e3dd88b47c button.colab-df-convert');\n",
              "      buttonEl.style.display =\n",
              "        google.colab.kernel.accessAllowed ? 'block' : 'none';\n",
              "\n",
              "      async function convertToInteractive(key) {\n",
              "        const element = document.querySelector('#df-3d271fd2-c81d-46af-a635-c0e3dd88b47c');\n",
              "        const dataTable =\n",
              "          await google.colab.kernel.invokeFunction('convertToInteractive',\n",
              "                                                    [key], {});\n",
              "        if (!dataTable) return;\n",
              "\n",
              "        const docLinkHtml = 'Like what you see? Visit the ' +\n",
              "          '<a target=\"_blank\" href=https://colab.research.google.com/notebooks/data_table.ipynb>data table notebook</a>'\n",
              "          + ' to learn more about interactive tables.';\n",
              "        element.innerHTML = '';\n",
              "        dataTable['output_type'] = 'display_data';\n",
              "        await google.colab.output.renderOutput(dataTable, element);\n",
              "        const docLink = document.createElement('div');\n",
              "        docLink.innerHTML = docLinkHtml;\n",
              "        element.appendChild(docLink);\n",
              "      }\n",
              "    </script>\n",
              "  </div>\n",
              "\n",
              "\n",
              "<div id=\"df-126dc639-1482-43c7-ab49-29b9c84ec4d5\">\n",
              "  <button class=\"colab-df-quickchart\" onclick=\"quickchart('df-126dc639-1482-43c7-ab49-29b9c84ec4d5')\"\n",
              "            title=\"Suggest charts\"\n",
              "            style=\"display:none;\">\n",
              "\n",
              "<svg xmlns=\"http://www.w3.org/2000/svg\" height=\"24px\"viewBox=\"0 0 24 24\"\n",
              "     width=\"24px\">\n",
              "    <g>\n",
              "        <path d=\"M19 3H5c-1.1 0-2 .9-2 2v14c0 1.1.9 2 2 2h14c1.1 0 2-.9 2-2V5c0-1.1-.9-2-2-2zM9 17H7v-7h2v7zm4 0h-2V7h2v10zm4 0h-2v-4h2v4z\"/>\n",
              "    </g>\n",
              "</svg>\n",
              "  </button>\n",
              "\n",
              "<style>\n",
              "  .colab-df-quickchart {\n",
              "      --bg-color: #E8F0FE;\n",
              "      --fill-color: #1967D2;\n",
              "      --hover-bg-color: #E2EBFA;\n",
              "      --hover-fill-color: #174EA6;\n",
              "      --disabled-fill-color: #AAA;\n",
              "      --disabled-bg-color: #DDD;\n",
              "  }\n",
              "\n",
              "  [theme=dark] .colab-df-quickchart {\n",
              "      --bg-color: #3B4455;\n",
              "      --fill-color: #D2E3FC;\n",
              "      --hover-bg-color: #434B5C;\n",
              "      --hover-fill-color: #FFFFFF;\n",
              "      --disabled-bg-color: #3B4455;\n",
              "      --disabled-fill-color: #666;\n",
              "  }\n",
              "\n",
              "  .colab-df-quickchart {\n",
              "    background-color: var(--bg-color);\n",
              "    border: none;\n",
              "    border-radius: 50%;\n",
              "    cursor: pointer;\n",
              "    display: none;\n",
              "    fill: var(--fill-color);\n",
              "    height: 32px;\n",
              "    padding: 0;\n",
              "    width: 32px;\n",
              "  }\n",
              "\n",
              "  .colab-df-quickchart:hover {\n",
              "    background-color: var(--hover-bg-color);\n",
              "    box-shadow: 0 1px 2px rgba(60, 64, 67, 0.3), 0 1px 3px 1px rgba(60, 64, 67, 0.15);\n",
              "    fill: var(--button-hover-fill-color);\n",
              "  }\n",
              "\n",
              "  .colab-df-quickchart-complete:disabled,\n",
              "  .colab-df-quickchart-complete:disabled:hover {\n",
              "    background-color: var(--disabled-bg-color);\n",
              "    fill: var(--disabled-fill-color);\n",
              "    box-shadow: none;\n",
              "  }\n",
              "\n",
              "  .colab-df-spinner {\n",
              "    border: 2px solid var(--fill-color);\n",
              "    border-color: transparent;\n",
              "    border-bottom-color: var(--fill-color);\n",
              "    animation:\n",
              "      spin 1s steps(1) infinite;\n",
              "  }\n",
              "\n",
              "  @keyframes spin {\n",
              "    0% {\n",
              "      border-color: transparent;\n",
              "      border-bottom-color: var(--fill-color);\n",
              "      border-left-color: var(--fill-color);\n",
              "    }\n",
              "    20% {\n",
              "      border-color: transparent;\n",
              "      border-left-color: var(--fill-color);\n",
              "      border-top-color: var(--fill-color);\n",
              "    }\n",
              "    30% {\n",
              "      border-color: transparent;\n",
              "      border-left-color: var(--fill-color);\n",
              "      border-top-color: var(--fill-color);\n",
              "      border-right-color: var(--fill-color);\n",
              "    }\n",
              "    40% {\n",
              "      border-color: transparent;\n",
              "      border-right-color: var(--fill-color);\n",
              "      border-top-color: var(--fill-color);\n",
              "    }\n",
              "    60% {\n",
              "      border-color: transparent;\n",
              "      border-right-color: var(--fill-color);\n",
              "    }\n",
              "    80% {\n",
              "      border-color: transparent;\n",
              "      border-right-color: var(--fill-color);\n",
              "      border-bottom-color: var(--fill-color);\n",
              "    }\n",
              "    90% {\n",
              "      border-color: transparent;\n",
              "      border-bottom-color: var(--fill-color);\n",
              "    }\n",
              "  }\n",
              "</style>\n",
              "\n",
              "  <script>\n",
              "    async function quickchart(key) {\n",
              "      const quickchartButtonEl =\n",
              "        document.querySelector('#' + key + ' button');\n",
              "      quickchartButtonEl.disabled = true;  // To prevent multiple clicks.\n",
              "      quickchartButtonEl.classList.add('colab-df-spinner');\n",
              "      try {\n",
              "        const charts = await google.colab.kernel.invokeFunction(\n",
              "            'suggestCharts', [key], {});\n",
              "      } catch (error) {\n",
              "        console.error('Error during call to suggestCharts:', error);\n",
              "      }\n",
              "      quickchartButtonEl.classList.remove('colab-df-spinner');\n",
              "      quickchartButtonEl.classList.add('colab-df-quickchart-complete');\n",
              "    }\n",
              "    (() => {\n",
              "      let quickchartButtonEl =\n",
              "        document.querySelector('#df-126dc639-1482-43c7-ab49-29b9c84ec4d5 button');\n",
              "      quickchartButtonEl.style.display =\n",
              "        google.colab.kernel.accessAllowed ? 'block' : 'none';\n",
              "    })();\n",
              "  </script>\n",
              "</div>\n",
              "    </div>\n",
              "  </div>\n"
            ]
          },
          "metadata": {},
          "execution_count": 22
        }
      ]
    },
    {
      "cell_type": "markdown",
      "source": [
        "Not that good, but we only trained for 1 epoch and this is a very simple RNN.\n"
      ],
      "metadata": {
        "id": "LDAwCv8luGlH"
      }
    },
    {
      "cell_type": "code",
      "source": [
        "df['Emotion'].value_counts()"
      ],
      "metadata": {
        "colab": {
          "base_uri": "https://localhost:8080/"
        },
        "id": "txLepsovuLVy",
        "outputId": "929a1f52-a5be-4e52-b9a8-5e8e0260211f"
      },
      "execution_count": null,
      "outputs": [
        {
          "output_type": "execute_result",
          "data": {
            "text/plain": [
              "joy         6761\n",
              "sadness     5797\n",
              "anger       2709\n",
              "fear        2373\n",
              "love        1641\n",
              "surprise     719\n",
              "Name: Emotion, dtype: int64"
            ]
          },
          "metadata": {},
          "execution_count": 23
        }
      ]
    },
    {
      "cell_type": "markdown",
      "source": [
        "Consider if we predicted everything as \"joy\". What's our accuracy?"
      ],
      "metadata": {
        "id": "FV1YVv_xuKXJ"
      }
    },
    {
      "cell_type": "code",
      "source": [
        "# TODO\n"
      ],
      "metadata": {
        "colab": {
          "base_uri": "https://localhost:8080/"
        },
        "id": "8VphG4fKssyt",
        "outputId": "1870e931-36f0-4d29-bd7f-5ff1e86479d8"
      },
      "execution_count": null,
      "outputs": [
        {
          "output_type": "execute_result",
          "data": {
            "text/plain": [
              "0.33805"
            ]
          },
          "metadata": {},
          "execution_count": 24
        }
      ]
    },
    {
      "cell_type": "markdown",
      "source": [
        "So that's really the performance to beat."
      ],
      "metadata": {
        "id": "5ntfeirtxbxC"
      }
    },
    {
      "cell_type": "markdown",
      "source": [
        "### BERT"
      ],
      "metadata": {
        "id": "2yxs6pInxhBM"
      }
    },
    {
      "cell_type": "markdown",
      "source": [
        "Bidirectional Encoder Representations from Transformers. Language model built on transformer architecture, introduced in 2018 and performed miles better than its predecessors. Pretrained on Wikipedia text and meant to understand the meaning of language by using surrounding context. BERT can read language in both directions (left-to-right and right-to-left, hence bidirectional) unlike other models, and this is enabled by the transformer architecture."
      ],
      "metadata": {
        "id": "UOI77ibIxkS3"
      }
    },
    {
      "cell_type": "code",
      "source": [
        "!pip install transformers"
      ],
      "metadata": {
        "id": "RceiqtQl-IeZ",
        "colab": {
          "base_uri": "https://localhost:8080/"
        },
        "outputId": "bc5077bb-7941-4d5a-db00-4bb9613b2a7f"
      },
      "execution_count": null,
      "outputs": [
        {
          "output_type": "stream",
          "name": "stdout",
          "text": [
            "Requirement already satisfied: transformers in /usr/local/lib/python3.10/dist-packages (4.35.2)\n",
            "Requirement already satisfied: filelock in /usr/local/lib/python3.10/dist-packages (from transformers) (3.13.1)\n",
            "Requirement already satisfied: huggingface-hub<1.0,>=0.16.4 in /usr/local/lib/python3.10/dist-packages (from transformers) (0.19.4)\n",
            "Requirement already satisfied: numpy>=1.17 in /usr/local/lib/python3.10/dist-packages (from transformers) (1.23.5)\n",
            "Requirement already satisfied: packaging>=20.0 in /usr/local/lib/python3.10/dist-packages (from transformers) (23.2)\n",
            "Requirement already satisfied: pyyaml>=5.1 in /usr/local/lib/python3.10/dist-packages (from transformers) (6.0.1)\n",
            "Requirement already satisfied: regex!=2019.12.17 in /usr/local/lib/python3.10/dist-packages (from transformers) (2023.6.3)\n",
            "Requirement already satisfied: requests in /usr/local/lib/python3.10/dist-packages (from transformers) (2.31.0)\n",
            "Requirement already satisfied: tokenizers<0.19,>=0.14 in /usr/local/lib/python3.10/dist-packages (from transformers) (0.15.0)\n",
            "Requirement already satisfied: safetensors>=0.3.1 in /usr/local/lib/python3.10/dist-packages (from transformers) (0.4.1)\n",
            "Requirement already satisfied: tqdm>=4.27 in /usr/local/lib/python3.10/dist-packages (from transformers) (4.66.1)\n",
            "Requirement already satisfied: fsspec>=2023.5.0 in /usr/local/lib/python3.10/dist-packages (from huggingface-hub<1.0,>=0.16.4->transformers) (2023.6.0)\n",
            "Requirement already satisfied: typing-extensions>=3.7.4.3 in /usr/local/lib/python3.10/dist-packages (from huggingface-hub<1.0,>=0.16.4->transformers) (4.5.0)\n",
            "Requirement already satisfied: charset-normalizer<4,>=2 in /usr/local/lib/python3.10/dist-packages (from requests->transformers) (3.3.2)\n",
            "Requirement already satisfied: idna<4,>=2.5 in /usr/local/lib/python3.10/dist-packages (from requests->transformers) (3.6)\n",
            "Requirement already satisfied: urllib3<3,>=1.21.1 in /usr/local/lib/python3.10/dist-packages (from requests->transformers) (2.0.7)\n",
            "Requirement already satisfied: certifi>=2017.4.17 in /usr/local/lib/python3.10/dist-packages (from requests->transformers) (2023.11.17)\n"
          ]
        }
      ]
    },
    {
      "cell_type": "code",
      "source": [
        "import torch\n",
        "from torch.utils.data import DataLoader, RandomSampler, SequentialSampler, TensorDataset, random_split\n",
        "from transformers import BertTokenizer, BertForSequenceClassification, AdamW\n",
        "from transformers import get_linear_schedule_with_warmup\n",
        "from sklearn.metrics import accuracy_score\n",
        "import numpy as np\n",
        "import random\n",
        "import time"
      ],
      "metadata": {
        "id": "24zyhTvN1KLY"
      },
      "execution_count": null,
      "outputs": []
    },
    {
      "cell_type": "code",
      "source": [
        "# Setting up the device for GPU usage\n",
        "device = torch.device('cuda' if torch.cuda.is_available() else 'cpu')"
      ],
      "metadata": {
        "id": "7JnMW9b21MNK"
      },
      "execution_count": null,
      "outputs": []
    },
    {
      "cell_type": "code",
      "source": [
        "# Load the BERT tokenizer\n",
        "tokenizer = BertTokenizer.from_pretrained('bert-base-uncased', do_lower_case=True)"
      ],
      "metadata": {
        "id": "y9WeGZuO1OkS"
      },
      "execution_count": null,
      "outputs": []
    },
    {
      "cell_type": "code",
      "source": [
        "# Function to encode the data\n",
        "def encode_data(tokenizer, comments, max_len):\n",
        "    input_ids = []\n",
        "    attention_masks = []\n",
        "\n",
        "    for comment in comments:\n",
        "        encoded_comment = tokenizer.encode_plus(\n",
        "            text=comment,  # Preprocess comment\n",
        "            add_special_tokens=True,  # Add `[CLS]` and `[SEP]`\n",
        "            max_length=max_len,  # Max length to truncate/pad\n",
        "            pad_to_max_length=True,  # Pad sentence to max length\n",
        "            return_attention_mask=True,  # Return attention mask\n",
        "            return_tensors='pt',  # Return PyTorch tensors\n",
        "        )\n",
        "\n",
        "        input_ids.append(encoded_comment['input_ids'])\n",
        "        attention_masks.append(encoded_comment['attention_mask'])\n",
        "\n",
        "    input_ids = torch.cat(input_ids, dim=0)\n",
        "    attention_masks = torch.cat(attention_masks, dim=0)\n",
        "\n",
        "    return input_ids, attention_masks"
      ],
      "metadata": {
        "id": "IC7wHi5J1Q51"
      },
      "execution_count": null,
      "outputs": []
    },
    {
      "cell_type": "code",
      "source": [
        "# Encode the data\n",
        "max_len = 256  # You can adjust this\n",
        "X_train_encoded, X_train_attention = encode_data(tokenizer, X_train.to_numpy(), max_len)\n",
        "X_test_encoded, X_test_attention = encode_data(tokenizer, X_test.to_numpy(), max_len)"
      ],
      "metadata": {
        "colab": {
          "base_uri": "https://localhost:8080/"
        },
        "id": "B-jLnwz61RW2",
        "outputId": "1b897f5e-dabe-44bd-d570-c598dc2719f0"
      },
      "execution_count": null,
      "outputs": [
        {
          "output_type": "stream",
          "name": "stderr",
          "text": [
            "Truncation was not explicitly activated but `max_length` is provided a specific value, please use `truncation=True` to explicitly truncate examples to max length. Defaulting to 'longest_first' truncation strategy. If you encode pairs of sequences (GLUE-style) with the tokenizer you can select this strategy more precisely by providing a specific strategy to `truncation`.\n",
            "/usr/local/lib/python3.10/dist-packages/transformers/tokenization_utils_base.py:2614: FutureWarning: The `pad_to_max_length` argument is deprecated and will be removed in a future version, use `padding=True` or `padding='longest'` to pad to the longest sequence in the batch, or use `padding='max_length'` to pad to a max length. In this case, you can give a specific length with `max_length` (e.g. `max_length=45`) or leave max_length to None to pad to the maximal input size of the model (e.g. 512 for Bert).\n",
            "  warnings.warn(\n"
          ]
        }
      ]
    },
    {
      "cell_type": "code",
      "source": [
        "from sklearn.preprocessing import LabelEncoder\n",
        "\n",
        "# Initialize the label encoder\n",
        "label_encoder = LabelEncoder()\n",
        "\n",
        "# Fit the encoder on the emotion labels\n",
        "label_encoder.fit(df['Emotion'])\n",
        "\n",
        "# Transform the emotion labels to integers\n",
        "y_train_encoded = label_encoder.transform(y_train)\n",
        "y_test_encoded = label_encoder.transform(y_test)\n",
        "\n",
        "# Convert the encoded labels to torch tensors\n",
        "y_train = torch.tensor(y_train_encoded)\n",
        "y_test = torch.tensor(y_test_encoded)"
      ],
      "metadata": {
        "id": "pqkHG-V71T0p"
      },
      "execution_count": null,
      "outputs": []
    },
    {
      "cell_type": "code",
      "source": [
        "# Create DataLoader\n",
        "batch_size = 32  # You can adjust this\n",
        "\n",
        "train_data = TensorDataset(X_train_encoded, X_train_attention, y_train)\n",
        "train_sampler = RandomSampler(train_data)\n",
        "train_dataloader = DataLoader(train_data, sampler=train_sampler, batch_size=batch_size)\n",
        "\n",
        "test_data = TensorDataset(X_test_encoded, X_test_attention, y_test)\n",
        "test_sampler = SequentialSampler(test_data)\n",
        "test_dataloader = DataLoader(test_data, sampler=test_sampler, batch_size=batch_size)"
      ],
      "metadata": {
        "id": "RbTfxefk1Xoy"
      },
      "execution_count": null,
      "outputs": []
    },
    {
      "cell_type": "code",
      "source": [
        "# Load BertForSequenceClassification, a BERT model with a single linear classification layer on top\n",
        "model = BertForSequenceClassification.from_pretrained(\n",
        "    \"bert-base-uncased\",  # Use the 12-layer BERT model, with an uncased vocab\n",
        "    num_labels = len(df['Emotion'].unique()),  # Number of output labels\n",
        "    output_attentions = False,  # Whether the model returns attentions weights\n",
        "    output_hidden_states = False,  # Whether the model returns all hidden-states\n",
        ")\n",
        "model.to(device)"
      ],
      "metadata": {
        "colab": {
          "base_uri": "https://localhost:8080/"
        },
        "id": "BfVSVcgj1aEB",
        "outputId": "cecf974b-ee05-4189-d5eb-a00915ec4d93"
      },
      "execution_count": null,
      "outputs": [
        {
          "output_type": "stream",
          "name": "stderr",
          "text": [
            "Some weights of BertForSequenceClassification were not initialized from the model checkpoint at bert-base-uncased and are newly initialized: ['classifier.weight', 'classifier.bias']\n",
            "You should probably TRAIN this model on a down-stream task to be able to use it for predictions and inference.\n"
          ]
        },
        {
          "output_type": "execute_result",
          "data": {
            "text/plain": [
              "BertForSequenceClassification(\n",
              "  (bert): BertModel(\n",
              "    (embeddings): BertEmbeddings(\n",
              "      (word_embeddings): Embedding(30522, 768, padding_idx=0)\n",
              "      (position_embeddings): Embedding(512, 768)\n",
              "      (token_type_embeddings): Embedding(2, 768)\n",
              "      (LayerNorm): LayerNorm((768,), eps=1e-12, elementwise_affine=True)\n",
              "      (dropout): Dropout(p=0.1, inplace=False)\n",
              "    )\n",
              "    (encoder): BertEncoder(\n",
              "      (layer): ModuleList(\n",
              "        (0-11): 12 x BertLayer(\n",
              "          (attention): BertAttention(\n",
              "            (self): BertSelfAttention(\n",
              "              (query): Linear(in_features=768, out_features=768, bias=True)\n",
              "              (key): Linear(in_features=768, out_features=768, bias=True)\n",
              "              (value): Linear(in_features=768, out_features=768, bias=True)\n",
              "              (dropout): Dropout(p=0.1, inplace=False)\n",
              "            )\n",
              "            (output): BertSelfOutput(\n",
              "              (dense): Linear(in_features=768, out_features=768, bias=True)\n",
              "              (LayerNorm): LayerNorm((768,), eps=1e-12, elementwise_affine=True)\n",
              "              (dropout): Dropout(p=0.1, inplace=False)\n",
              "            )\n",
              "          )\n",
              "          (intermediate): BertIntermediate(\n",
              "            (dense): Linear(in_features=768, out_features=3072, bias=True)\n",
              "            (intermediate_act_fn): GELUActivation()\n",
              "          )\n",
              "          (output): BertOutput(\n",
              "            (dense): Linear(in_features=3072, out_features=768, bias=True)\n",
              "            (LayerNorm): LayerNorm((768,), eps=1e-12, elementwise_affine=True)\n",
              "            (dropout): Dropout(p=0.1, inplace=False)\n",
              "          )\n",
              "        )\n",
              "      )\n",
              "    )\n",
              "    (pooler): BertPooler(\n",
              "      (dense): Linear(in_features=768, out_features=768, bias=True)\n",
              "      (activation): Tanh()\n",
              "    )\n",
              "  )\n",
              "  (dropout): Dropout(p=0.1, inplace=False)\n",
              "  (classifier): Linear(in_features=768, out_features=6, bias=True)\n",
              ")"
            ]
          },
          "metadata": {},
          "execution_count": 33
        }
      ]
    },
    {
      "cell_type": "code",
      "source": [
        "# Optimizer and scheduler\n",
        "optimizer = AdamW(model.parameters(), lr=2e-5, eps=1e-8)\n",
        "epochs = 6  # You can adjust this\n",
        "total_steps = len(train_dataloader) * epochs\n",
        "scheduler = get_linear_schedule_with_warmup(optimizer, num_warmup_steps=0, num_training_steps=total_steps)"
      ],
      "metadata": {
        "colab": {
          "base_uri": "https://localhost:8080/"
        },
        "id": "r9sFa6BX1cSN",
        "outputId": "799d8eec-7740-4b3a-a2d9-f2fb3e098196"
      },
      "execution_count": null,
      "outputs": [
        {
          "output_type": "stream",
          "name": "stderr",
          "text": [
            "/usr/local/lib/python3.10/dist-packages/transformers/optimization.py:411: FutureWarning: This implementation of AdamW is deprecated and will be removed in a future version. Use the PyTorch implementation torch.optim.AdamW instead, or set `no_deprecation_warning=True` to disable this warning\n",
            "  warnings.warn(\n"
          ]
        }
      ]
    },
    {
      "cell_type": "code",
      "source": [
        "# Function for accuracy calculation\n",
        "def flat_accuracy(preds, labels):\n",
        "    pred_flat = np.argmax(preds, axis=1).flatten()\n",
        "    labels_flat = labels.flatten()\n",
        "    return np.sum(pred_flat == labels_flat) / len(labels_flat)"
      ],
      "metadata": {
        "id": "7mQcMOir1dQq"
      },
      "execution_count": null,
      "outputs": []
    },
    {
      "cell_type": "markdown",
      "source": [
        "Warning, this will take about 10 minutes per epoch (even on GPU)! Train 4-6 for best performance, but reduce this number for time efficiency. The results are already displayed below for you.\n",
        "\n",
        "---\n",
        "\n"
      ],
      "metadata": {
        "id": "NO_Un0wQEePj"
      }
    },
    {
      "cell_type": "code",
      "source": [
        "# Training loop\n",
        "for epoch_i in tqdm(range(0, epochs)):\n",
        "    # Training\n",
        "    model.train()\n",
        "    total_loss = 0\n",
        "    for step, batch in enumerate(train_dataloader):\n",
        "        b_input_ids = batch[0].to(device)\n",
        "        b_input_mask = batch[1].to(device)\n",
        "        b_labels = batch[2].to(device)\n",
        "        model.zero_grad()\n",
        "        outputs = model(b_input_ids, token_type_ids=None, attention_mask=b_input_mask, labels=b_labels)\n",
        "        loss = outputs.loss\n",
        "        total_loss += loss.item()\n",
        "        loss.backward()\n",
        "        torch.nn.utils.clip_grad_norm_(model.parameters(), 1.0)\n",
        "        optimizer.step()\n",
        "        scheduler.step()\n",
        "    avg_train_loss = total_loss / len(train_dataloader)\n",
        "    print(f\"  Average training loss: {avg_train_loss}\")"
      ],
      "metadata": {
        "colab": {
          "base_uri": "https://localhost:8080/"
        },
        "id": "KUExneNwy18h",
        "outputId": "2b62482a-f47f-4f3f-a449-469920abdddf"
      },
      "execution_count": null,
      "outputs": [
        {
          "output_type": "stream",
          "name": "stderr",
          "text": [
            " 17%|█▋        | 1/6 [10:25<52:05, 625.03s/it]"
          ]
        },
        {
          "output_type": "stream",
          "name": "stdout",
          "text": [
            "  Average training loss: 0.6255435718819499\n"
          ]
        },
        {
          "output_type": "stream",
          "name": "stderr",
          "text": [
            "\r 33%|███▎      | 2/6 [20:52<41:44, 626.19s/it]"
          ]
        },
        {
          "output_type": "stream",
          "name": "stdout",
          "text": [
            "  Average training loss: 0.15780307874828578\n"
          ]
        },
        {
          "output_type": "stream",
          "name": "stderr",
          "text": [
            "\r 50%|█████     | 3/6 [31:19<31:19, 626.55s/it]"
          ]
        },
        {
          "output_type": "stream",
          "name": "stdout",
          "text": [
            "  Average training loss: 0.10560856089740991\n"
          ]
        },
        {
          "output_type": "stream",
          "name": "stderr",
          "text": [
            "\r 67%|██████▋   | 4/6 [41:45<20:53, 626.72s/it]"
          ]
        },
        {
          "output_type": "stream",
          "name": "stdout",
          "text": [
            "  Average training loss: 0.07817410395271145\n"
          ]
        },
        {
          "output_type": "stream",
          "name": "stderr",
          "text": [
            "\r 83%|████████▎ | 5/6 [52:12<10:26, 626.82s/it]"
          ]
        },
        {
          "output_type": "stream",
          "name": "stdout",
          "text": [
            "  Average training loss: 0.05823318957979791\n"
          ]
        },
        {
          "output_type": "stream",
          "name": "stderr",
          "text": [
            "100%|██████████| 6/6 [1:02:39<00:00, 626.66s/it]"
          ]
        },
        {
          "output_type": "stream",
          "name": "stdout",
          "text": [
            "  Average training loss: 0.04564942488004454\n"
          ]
        },
        {
          "output_type": "stream",
          "name": "stderr",
          "text": [
            "\n"
          ]
        }
      ]
    },
    {
      "cell_type": "code",
      "source": [
        "# Evaluation\n",
        "def evaluate(dataloader):\n",
        "    model.eval()\n",
        "    total_eval_accuracy = 0\n",
        "    for batch in dataloader:\n",
        "        b_input_ids = batch[0].to(device)\n",
        "        b_input_mask = batch[1].to(device)\n",
        "        b_labels = batch[2].to(device)\n",
        "        with torch.no_grad():\n",
        "            outputs = model(b_input_ids, token_type_ids=None, attention_mask=b_input_mask)\n",
        "        logits = outputs.logits\n",
        "        logits = logits.detach().cpu().numpy()\n",
        "        label_ids = b_labels.to('cpu').numpy()\n",
        "        total_eval_accuracy += flat_accuracy(logits, label_ids)\n",
        "    avg_val_accuracy = total_eval_accuracy / len(dataloader)\n",
        "    return avg_val_accuracy"
      ],
      "metadata": {
        "id": "VEE10JuqycEj"
      },
      "execution_count": null,
      "outputs": []
    },
    {
      "cell_type": "code",
      "source": [
        "train_accuracy = evaluate(train_dataloader)\n",
        "test_accuracy = evaluate(test_dataloader)"
      ],
      "metadata": {
        "id": "pWAl3LZs2mNV"
      },
      "execution_count": null,
      "outputs": []
    },
    {
      "cell_type": "code",
      "source": [
        "import pandas as pd\n",
        "\n",
        "# Define the data for the table\n",
        "data = {\n",
        "    \"Model\": [\n",
        "        \"OPTIONAL: TF-IDF + Logistic Regression\",\n",
        "        \"Word2Vec + Logistic Regression\",\n",
        "        \"Simple RNN\",\n",
        "        \"BERT Encoder\"\n",
        "    ],\n",
        "    \"Train Accuracy\": [\n",
        "        0.937937,\n",
        "        0.382437,\n",
        "        0.289125,\n",
        "        0.990437\n",
        "    ],\n",
        "    \"Test Accuracy\": [\n",
        "        0.85775,\n",
        "        0.37100,\n",
        "        0.29350,\n",
        "        0.93450\n",
        "    ]\n",
        "}\n",
        "\n",
        "# Create a DataFrame\n",
        "accuracy_df = pd.DataFrame(data)\n",
        "\n",
        "# Display the DataFrame\n",
        "print(accuracy_df)\n"
      ],
      "metadata": {
        "colab": {
          "base_uri": "https://localhost:8080/",
          "height": 175
        },
        "id": "g5NbwhuP2mr7",
        "outputId": "30d5e175-65d5-4283-fba8-016834ab6340"
      },
      "execution_count": null,
      "outputs": [
        {
          "output_type": "execute_result",
          "data": {
            "text/plain": [
              "                            Model  Train Accuracy  Test Accuracy\n",
              "0    TF-IDF + Logistic Regression        0.937937        0.85775\n",
              "1  Word2Vec + Logistic Regression        0.382437        0.37100\n",
              "2                      Simple RNN        0.289125        0.29350\n",
              "3                    BERT Encoder        0.990437        0.93450"
            ],
            "text/html": [
              "\n",
              "  <div id=\"df-232a540a-4a04-4146-9f11-eef027a3b0c2\" class=\"colab-df-container\">\n",
              "    <div>\n",
              "<style scoped>\n",
              "    .dataframe tbody tr th:only-of-type {\n",
              "        vertical-align: middle;\n",
              "    }\n",
              "\n",
              "    .dataframe tbody tr th {\n",
              "        vertical-align: top;\n",
              "    }\n",
              "\n",
              "    .dataframe thead th {\n",
              "        text-align: right;\n",
              "    }\n",
              "</style>\n",
              "<table border=\"1\" class=\"dataframe\">\n",
              "  <thead>\n",
              "    <tr style=\"text-align: right;\">\n",
              "      <th></th>\n",
              "      <th>Model</th>\n",
              "      <th>Train Accuracy</th>\n",
              "      <th>Test Accuracy</th>\n",
              "    </tr>\n",
              "  </thead>\n",
              "  <tbody>\n",
              "    <tr>\n",
              "      <th>0</th>\n",
              "      <td>TF-IDF + Logistic Regression</td>\n",
              "      <td>0.937937</td>\n",
              "      <td>0.85775</td>\n",
              "    </tr>\n",
              "    <tr>\n",
              "      <th>1</th>\n",
              "      <td>Word2Vec + Logistic Regression</td>\n",
              "      <td>0.382437</td>\n",
              "      <td>0.37100</td>\n",
              "    </tr>\n",
              "    <tr>\n",
              "      <th>2</th>\n",
              "      <td>Simple RNN</td>\n",
              "      <td>0.289125</td>\n",
              "      <td>0.29350</td>\n",
              "    </tr>\n",
              "    <tr>\n",
              "      <th>3</th>\n",
              "      <td>BERT Encoder</td>\n",
              "      <td>0.990437</td>\n",
              "      <td>0.93450</td>\n",
              "    </tr>\n",
              "  </tbody>\n",
              "</table>\n",
              "</div>\n",
              "    <div class=\"colab-df-buttons\">\n",
              "\n",
              "  <div class=\"colab-df-container\">\n",
              "    <button class=\"colab-df-convert\" onclick=\"convertToInteractive('df-232a540a-4a04-4146-9f11-eef027a3b0c2')\"\n",
              "            title=\"Convert this dataframe to an interactive table.\"\n",
              "            style=\"display:none;\">\n",
              "\n",
              "  <svg xmlns=\"http://www.w3.org/2000/svg\" height=\"24px\" viewBox=\"0 -960 960 960\">\n",
              "    <path d=\"M120-120v-720h720v720H120Zm60-500h600v-160H180v160Zm220 220h160v-160H400v160Zm0 220h160v-160H400v160ZM180-400h160v-160H180v160Zm440 0h160v-160H620v160ZM180-180h160v-160H180v160Zm440 0h160v-160H620v160Z\"/>\n",
              "  </svg>\n",
              "    </button>\n",
              "\n",
              "  <style>\n",
              "    .colab-df-container {\n",
              "      display:flex;\n",
              "      gap: 12px;\n",
              "    }\n",
              "\n",
              "    .colab-df-convert {\n",
              "      background-color: #E8F0FE;\n",
              "      border: none;\n",
              "      border-radius: 50%;\n",
              "      cursor: pointer;\n",
              "      display: none;\n",
              "      fill: #1967D2;\n",
              "      height: 32px;\n",
              "      padding: 0 0 0 0;\n",
              "      width: 32px;\n",
              "    }\n",
              "\n",
              "    .colab-df-convert:hover {\n",
              "      background-color: #E2EBFA;\n",
              "      box-shadow: 0px 1px 2px rgba(60, 64, 67, 0.3), 0px 1px 3px 1px rgba(60, 64, 67, 0.15);\n",
              "      fill: #174EA6;\n",
              "    }\n",
              "\n",
              "    .colab-df-buttons div {\n",
              "      margin-bottom: 4px;\n",
              "    }\n",
              "\n",
              "    [theme=dark] .colab-df-convert {\n",
              "      background-color: #3B4455;\n",
              "      fill: #D2E3FC;\n",
              "    }\n",
              "\n",
              "    [theme=dark] .colab-df-convert:hover {\n",
              "      background-color: #434B5C;\n",
              "      box-shadow: 0px 1px 3px 1px rgba(0, 0, 0, 0.15);\n",
              "      filter: drop-shadow(0px 1px 2px rgba(0, 0, 0, 0.3));\n",
              "      fill: #FFFFFF;\n",
              "    }\n",
              "  </style>\n",
              "\n",
              "    <script>\n",
              "      const buttonEl =\n",
              "        document.querySelector('#df-232a540a-4a04-4146-9f11-eef027a3b0c2 button.colab-df-convert');\n",
              "      buttonEl.style.display =\n",
              "        google.colab.kernel.accessAllowed ? 'block' : 'none';\n",
              "\n",
              "      async function convertToInteractive(key) {\n",
              "        const element = document.querySelector('#df-232a540a-4a04-4146-9f11-eef027a3b0c2');\n",
              "        const dataTable =\n",
              "          await google.colab.kernel.invokeFunction('convertToInteractive',\n",
              "                                                    [key], {});\n",
              "        if (!dataTable) return;\n",
              "\n",
              "        const docLinkHtml = 'Like what you see? Visit the ' +\n",
              "          '<a target=\"_blank\" href=https://colab.research.google.com/notebooks/data_table.ipynb>data table notebook</a>'\n",
              "          + ' to learn more about interactive tables.';\n",
              "        element.innerHTML = '';\n",
              "        dataTable['output_type'] = 'display_data';\n",
              "        await google.colab.output.renderOutput(dataTable, element);\n",
              "        const docLink = document.createElement('div');\n",
              "        docLink.innerHTML = docLinkHtml;\n",
              "        element.appendChild(docLink);\n",
              "      }\n",
              "    </script>\n",
              "  </div>\n",
              "\n",
              "\n",
              "<div id=\"df-776374f5-d010-4b8d-9e6c-5aa2ba004703\">\n",
              "  <button class=\"colab-df-quickchart\" onclick=\"quickchart('df-776374f5-d010-4b8d-9e6c-5aa2ba004703')\"\n",
              "            title=\"Suggest charts\"\n",
              "            style=\"display:none;\">\n",
              "\n",
              "<svg xmlns=\"http://www.w3.org/2000/svg\" height=\"24px\"viewBox=\"0 0 24 24\"\n",
              "     width=\"24px\">\n",
              "    <g>\n",
              "        <path d=\"M19 3H5c-1.1 0-2 .9-2 2v14c0 1.1.9 2 2 2h14c1.1 0 2-.9 2-2V5c0-1.1-.9-2-2-2zM9 17H7v-7h2v7zm4 0h-2V7h2v10zm4 0h-2v-4h2v4z\"/>\n",
              "    </g>\n",
              "</svg>\n",
              "  </button>\n",
              "\n",
              "<style>\n",
              "  .colab-df-quickchart {\n",
              "      --bg-color: #E8F0FE;\n",
              "      --fill-color: #1967D2;\n",
              "      --hover-bg-color: #E2EBFA;\n",
              "      --hover-fill-color: #174EA6;\n",
              "      --disabled-fill-color: #AAA;\n",
              "      --disabled-bg-color: #DDD;\n",
              "  }\n",
              "\n",
              "  [theme=dark] .colab-df-quickchart {\n",
              "      --bg-color: #3B4455;\n",
              "      --fill-color: #D2E3FC;\n",
              "      --hover-bg-color: #434B5C;\n",
              "      --hover-fill-color: #FFFFFF;\n",
              "      --disabled-bg-color: #3B4455;\n",
              "      --disabled-fill-color: #666;\n",
              "  }\n",
              "\n",
              "  .colab-df-quickchart {\n",
              "    background-color: var(--bg-color);\n",
              "    border: none;\n",
              "    border-radius: 50%;\n",
              "    cursor: pointer;\n",
              "    display: none;\n",
              "    fill: var(--fill-color);\n",
              "    height: 32px;\n",
              "    padding: 0;\n",
              "    width: 32px;\n",
              "  }\n",
              "\n",
              "  .colab-df-quickchart:hover {\n",
              "    background-color: var(--hover-bg-color);\n",
              "    box-shadow: 0 1px 2px rgba(60, 64, 67, 0.3), 0 1px 3px 1px rgba(60, 64, 67, 0.15);\n",
              "    fill: var(--button-hover-fill-color);\n",
              "  }\n",
              "\n",
              "  .colab-df-quickchart-complete:disabled,\n",
              "  .colab-df-quickchart-complete:disabled:hover {\n",
              "    background-color: var(--disabled-bg-color);\n",
              "    fill: var(--disabled-fill-color);\n",
              "    box-shadow: none;\n",
              "  }\n",
              "\n",
              "  .colab-df-spinner {\n",
              "    border: 2px solid var(--fill-color);\n",
              "    border-color: transparent;\n",
              "    border-bottom-color: var(--fill-color);\n",
              "    animation:\n",
              "      spin 1s steps(1) infinite;\n",
              "  }\n",
              "\n",
              "  @keyframes spin {\n",
              "    0% {\n",
              "      border-color: transparent;\n",
              "      border-bottom-color: var(--fill-color);\n",
              "      border-left-color: var(--fill-color);\n",
              "    }\n",
              "    20% {\n",
              "      border-color: transparent;\n",
              "      border-left-color: var(--fill-color);\n",
              "      border-top-color: var(--fill-color);\n",
              "    }\n",
              "    30% {\n",
              "      border-color: transparent;\n",
              "      border-left-color: var(--fill-color);\n",
              "      border-top-color: var(--fill-color);\n",
              "      border-right-color: var(--fill-color);\n",
              "    }\n",
              "    40% {\n",
              "      border-color: transparent;\n",
              "      border-right-color: var(--fill-color);\n",
              "      border-top-color: var(--fill-color);\n",
              "    }\n",
              "    60% {\n",
              "      border-color: transparent;\n",
              "      border-right-color: var(--fill-color);\n",
              "    }\n",
              "    80% {\n",
              "      border-color: transparent;\n",
              "      border-right-color: var(--fill-color);\n",
              "      border-bottom-color: var(--fill-color);\n",
              "    }\n",
              "    90% {\n",
              "      border-color: transparent;\n",
              "      border-bottom-color: var(--fill-color);\n",
              "    }\n",
              "  }\n",
              "</style>\n",
              "\n",
              "  <script>\n",
              "    async function quickchart(key) {\n",
              "      const quickchartButtonEl =\n",
              "        document.querySelector('#' + key + ' button');\n",
              "      quickchartButtonEl.disabled = true;  // To prevent multiple clicks.\n",
              "      quickchartButtonEl.classList.add('colab-df-spinner');\n",
              "      try {\n",
              "        const charts = await google.colab.kernel.invokeFunction(\n",
              "            'suggestCharts', [key], {});\n",
              "      } catch (error) {\n",
              "        console.error('Error during call to suggestCharts:', error);\n",
              "      }\n",
              "      quickchartButtonEl.classList.remove('colab-df-spinner');\n",
              "      quickchartButtonEl.classList.add('colab-df-quickchart-complete');\n",
              "    }\n",
              "    (() => {\n",
              "      let quickchartButtonEl =\n",
              "        document.querySelector('#df-776374f5-d010-4b8d-9e6c-5aa2ba004703 button');\n",
              "      quickchartButtonEl.style.display =\n",
              "        google.colab.kernel.accessAllowed ? 'block' : 'none';\n",
              "    })();\n",
              "  </script>\n",
              "</div>\n",
              "    </div>\n",
              "  </div>\n"
            ]
          },
          "metadata": {},
          "execution_count": 40
        }
      ]
    },
    {
      "cell_type": "markdown",
      "source": [
        "### Optional: TF-IDF"
      ],
      "metadata": {
        "id": "PVWAyOzwhaKY"
      }
    },
    {
      "cell_type": "markdown",
      "source": [
        "Term Frequency - Inverse Document Frequency (TF-IDF) is a method to measure the importance of a particular word in each document, relative to a wider corpus of text (our entire dataset). The metric measures both term frequency (how often the term appears in the document) and inverse document frequency (the most frequent words like \"is\" \"of\" \"that\" have less meaning than the rarer words like \"happy\")."
      ],
      "metadata": {
        "id": "DbdflQcuiiz0"
      }
    },
    {
      "cell_type": "code",
      "source": [
        "from sklearn.feature_extraction.text import TfidfVectorizer\n",
        "from sklearn.pipeline import Pipeline\n",
        "from sklearn.metrics import accuracy_score\n",
        "from sklearn.linear_model import LogisticRegression\n",
        "\n",
        "# Create a TF-IDF vectorizer and Logistic Regression pipeline\n",
        "# TODO\n",
        "tfidf_pipeline ="
      ],
      "metadata": {
        "id": "Ads37cYNheV3"
      },
      "execution_count": null,
      "outputs": []
    },
    {
      "cell_type": "code",
      "source": [
        "# Train the pipeline on the training data\n",
        "# TODO\n"
      ],
      "metadata": {
        "colab": {
          "base_uri": "https://localhost:8080/",
          "height": 125
        },
        "id": "qlE5Lex8jkEW",
        "outputId": "2340b792-14f5-4cfa-c625-fbfb352ba44b"
      },
      "execution_count": null,
      "outputs": [
        {
          "output_type": "execute_result",
          "data": {
            "text/plain": [
              "Pipeline(steps=[('tfidf', TfidfVectorizer()),\n",
              "                ('logreg', LogisticRegression(max_iter=1000))])"
            ],
            "text/html": [
              "<style>#sk-container-id-1 {color: black;background-color: white;}#sk-container-id-1 pre{padding: 0;}#sk-container-id-1 div.sk-toggleable {background-color: white;}#sk-container-id-1 label.sk-toggleable__label {cursor: pointer;display: block;width: 100%;margin-bottom: 0;padding: 0.3em;box-sizing: border-box;text-align: center;}#sk-container-id-1 label.sk-toggleable__label-arrow:before {content: \"▸\";float: left;margin-right: 0.25em;color: #696969;}#sk-container-id-1 label.sk-toggleable__label-arrow:hover:before {color: black;}#sk-container-id-1 div.sk-estimator:hover label.sk-toggleable__label-arrow:before {color: black;}#sk-container-id-1 div.sk-toggleable__content {max-height: 0;max-width: 0;overflow: hidden;text-align: left;background-color: #f0f8ff;}#sk-container-id-1 div.sk-toggleable__content pre {margin: 0.2em;color: black;border-radius: 0.25em;background-color: #f0f8ff;}#sk-container-id-1 input.sk-toggleable__control:checked~div.sk-toggleable__content {max-height: 200px;max-width: 100%;overflow: auto;}#sk-container-id-1 input.sk-toggleable__control:checked~label.sk-toggleable__label-arrow:before {content: \"▾\";}#sk-container-id-1 div.sk-estimator input.sk-toggleable__control:checked~label.sk-toggleable__label {background-color: #d4ebff;}#sk-container-id-1 div.sk-label input.sk-toggleable__control:checked~label.sk-toggleable__label {background-color: #d4ebff;}#sk-container-id-1 input.sk-hidden--visually {border: 0;clip: rect(1px 1px 1px 1px);clip: rect(1px, 1px, 1px, 1px);height: 1px;margin: -1px;overflow: hidden;padding: 0;position: absolute;width: 1px;}#sk-container-id-1 div.sk-estimator {font-family: monospace;background-color: #f0f8ff;border: 1px dotted black;border-radius: 0.25em;box-sizing: border-box;margin-bottom: 0.5em;}#sk-container-id-1 div.sk-estimator:hover {background-color: #d4ebff;}#sk-container-id-1 div.sk-parallel-item::after {content: \"\";width: 100%;border-bottom: 1px solid gray;flex-grow: 1;}#sk-container-id-1 div.sk-label:hover label.sk-toggleable__label {background-color: #d4ebff;}#sk-container-id-1 div.sk-serial::before {content: \"\";position: absolute;border-left: 1px solid gray;box-sizing: border-box;top: 0;bottom: 0;left: 50%;z-index: 0;}#sk-container-id-1 div.sk-serial {display: flex;flex-direction: column;align-items: center;background-color: white;padding-right: 0.2em;padding-left: 0.2em;position: relative;}#sk-container-id-1 div.sk-item {position: relative;z-index: 1;}#sk-container-id-1 div.sk-parallel {display: flex;align-items: stretch;justify-content: center;background-color: white;position: relative;}#sk-container-id-1 div.sk-item::before, #sk-container-id-1 div.sk-parallel-item::before {content: \"\";position: absolute;border-left: 1px solid gray;box-sizing: border-box;top: 0;bottom: 0;left: 50%;z-index: -1;}#sk-container-id-1 div.sk-parallel-item {display: flex;flex-direction: column;z-index: 1;position: relative;background-color: white;}#sk-container-id-1 div.sk-parallel-item:first-child::after {align-self: flex-end;width: 50%;}#sk-container-id-1 div.sk-parallel-item:last-child::after {align-self: flex-start;width: 50%;}#sk-container-id-1 div.sk-parallel-item:only-child::after {width: 0;}#sk-container-id-1 div.sk-dashed-wrapped {border: 1px dashed gray;margin: 0 0.4em 0.5em 0.4em;box-sizing: border-box;padding-bottom: 0.4em;background-color: white;}#sk-container-id-1 div.sk-label label {font-family: monospace;font-weight: bold;display: inline-block;line-height: 1.2em;}#sk-container-id-1 div.sk-label-container {text-align: center;}#sk-container-id-1 div.sk-container {/* jupyter's `normalize.less` sets `[hidden] { display: none; }` but bootstrap.min.css set `[hidden] { display: none !important; }` so we also need the `!important` here to be able to override the default hidden behavior on the sphinx rendered scikit-learn.org. See: https://github.com/scikit-learn/scikit-learn/issues/21755 */display: inline-block !important;position: relative;}#sk-container-id-1 div.sk-text-repr-fallback {display: none;}</style><div id=\"sk-container-id-1\" class=\"sk-top-container\"><div class=\"sk-text-repr-fallback\"><pre>Pipeline(steps=[(&#x27;tfidf&#x27;, TfidfVectorizer()),\n",
              "                (&#x27;logreg&#x27;, LogisticRegression(max_iter=1000))])</pre><b>In a Jupyter environment, please rerun this cell to show the HTML representation or trust the notebook. <br />On GitHub, the HTML representation is unable to render, please try loading this page with nbviewer.org.</b></div><div class=\"sk-container\" hidden><div class=\"sk-item sk-dashed-wrapped\"><div class=\"sk-label-container\"><div class=\"sk-label sk-toggleable\"><input class=\"sk-toggleable__control sk-hidden--visually\" id=\"sk-estimator-id-1\" type=\"checkbox\" ><label for=\"sk-estimator-id-1\" class=\"sk-toggleable__label sk-toggleable__label-arrow\">Pipeline</label><div class=\"sk-toggleable__content\"><pre>Pipeline(steps=[(&#x27;tfidf&#x27;, TfidfVectorizer()),\n",
              "                (&#x27;logreg&#x27;, LogisticRegression(max_iter=1000))])</pre></div></div></div><div class=\"sk-serial\"><div class=\"sk-item\"><div class=\"sk-estimator sk-toggleable\"><input class=\"sk-toggleable__control sk-hidden--visually\" id=\"sk-estimator-id-2\" type=\"checkbox\" ><label for=\"sk-estimator-id-2\" class=\"sk-toggleable__label sk-toggleable__label-arrow\">TfidfVectorizer</label><div class=\"sk-toggleable__content\"><pre>TfidfVectorizer()</pre></div></div></div><div class=\"sk-item\"><div class=\"sk-estimator sk-toggleable\"><input class=\"sk-toggleable__control sk-hidden--visually\" id=\"sk-estimator-id-3\" type=\"checkbox\" ><label for=\"sk-estimator-id-3\" class=\"sk-toggleable__label sk-toggleable__label-arrow\">LogisticRegression</label><div class=\"sk-toggleable__content\"><pre>LogisticRegression(max_iter=1000)</pre></div></div></div></div></div></div></div>"
            ]
          },
          "metadata": {},
          "execution_count": 9
        }
      ]
    },
    {
      "cell_type": "code",
      "source": [
        "# Making predictions\n",
        "y_train_pred_tfidf = tfidf_pipeline.predict(X_train)\n",
        "y_test_pred_tfidf = tfidf_pipeline.predict(X_test)"
      ],
      "metadata": {
        "id": "jErE5Qevjk8z"
      },
      "execution_count": null,
      "outputs": []
    },
    {
      "cell_type": "code",
      "source": [
        "# Computing accuracies\n",
        "train_accuracy_tfidf = accuracy_score(y_train, y_train_pred_tfidf)\n",
        "test_accuracy_tfidf = accuracy_score(y_test, y_test_pred_tfidf)"
      ],
      "metadata": {
        "id": "Iey4URgHjo9z"
      },
      "execution_count": null,
      "outputs": []
    },
    {
      "cell_type": "code",
      "source": [
        "accuracy_df = pd.DataFrame()"
      ],
      "metadata": {
        "id": "C8gKOKkGDOdU"
      },
      "execution_count": null,
      "outputs": []
    },
    {
      "cell_type": "code",
      "source": [
        "# Adding the TF-IDF accuracies to the DataFrame\n",
        "accuracy_df = accuracy_df.append({\n",
        "    \"Model\": \"TF-IDF + Logistic Regression\",\n",
        "    \"Train Accuracy\": train_accuracy_tfidf,\n",
        "    \"Test Accuracy\": test_accuracy_tfidf\n",
        "}, ignore_index=True)\n",
        "\n",
        "accuracy_df"
      ],
      "metadata": {
        "colab": {
          "base_uri": "https://localhost:8080/",
          "height": 115
        },
        "id": "8RuLigL5jjcO",
        "outputId": "bcdc8632-20b8-4dba-94a2-6675ab05694d"
      },
      "execution_count": null,
      "outputs": [
        {
          "output_type": "stream",
          "name": "stderr",
          "text": [
            "<ipython-input-14-2a4b6672ccab>:2: FutureWarning: The frame.append method is deprecated and will be removed from pandas in a future version. Use pandas.concat instead.\n",
            "  accuracy_df = accuracy_df.append({\n"
          ]
        },
        {
          "output_type": "execute_result",
          "data": {
            "text/plain": [
              "                          Model  Train Accuracy  Test Accuracy\n",
              "0  TF-IDF + Logistic Regression        0.937937        0.85775"
            ],
            "text/html": [
              "\n",
              "  <div id=\"df-aea26756-0ad5-4f34-82fc-8a1b82216171\" class=\"colab-df-container\">\n",
              "    <div>\n",
              "<style scoped>\n",
              "    .dataframe tbody tr th:only-of-type {\n",
              "        vertical-align: middle;\n",
              "    }\n",
              "\n",
              "    .dataframe tbody tr th {\n",
              "        vertical-align: top;\n",
              "    }\n",
              "\n",
              "    .dataframe thead th {\n",
              "        text-align: right;\n",
              "    }\n",
              "</style>\n",
              "<table border=\"1\" class=\"dataframe\">\n",
              "  <thead>\n",
              "    <tr style=\"text-align: right;\">\n",
              "      <th></th>\n",
              "      <th>Model</th>\n",
              "      <th>Train Accuracy</th>\n",
              "      <th>Test Accuracy</th>\n",
              "    </tr>\n",
              "  </thead>\n",
              "  <tbody>\n",
              "    <tr>\n",
              "      <th>0</th>\n",
              "      <td>TF-IDF + Logistic Regression</td>\n",
              "      <td>0.937937</td>\n",
              "      <td>0.85775</td>\n",
              "    </tr>\n",
              "  </tbody>\n",
              "</table>\n",
              "</div>\n",
              "    <div class=\"colab-df-buttons\">\n",
              "\n",
              "  <div class=\"colab-df-container\">\n",
              "    <button class=\"colab-df-convert\" onclick=\"convertToInteractive('df-aea26756-0ad5-4f34-82fc-8a1b82216171')\"\n",
              "            title=\"Convert this dataframe to an interactive table.\"\n",
              "            style=\"display:none;\">\n",
              "\n",
              "  <svg xmlns=\"http://www.w3.org/2000/svg\" height=\"24px\" viewBox=\"0 -960 960 960\">\n",
              "    <path d=\"M120-120v-720h720v720H120Zm60-500h600v-160H180v160Zm220 220h160v-160H400v160Zm0 220h160v-160H400v160ZM180-400h160v-160H180v160Zm440 0h160v-160H620v160ZM180-180h160v-160H180v160Zm440 0h160v-160H620v160Z\"/>\n",
              "  </svg>\n",
              "    </button>\n",
              "\n",
              "  <style>\n",
              "    .colab-df-container {\n",
              "      display:flex;\n",
              "      gap: 12px;\n",
              "    }\n",
              "\n",
              "    .colab-df-convert {\n",
              "      background-color: #E8F0FE;\n",
              "      border: none;\n",
              "      border-radius: 50%;\n",
              "      cursor: pointer;\n",
              "      display: none;\n",
              "      fill: #1967D2;\n",
              "      height: 32px;\n",
              "      padding: 0 0 0 0;\n",
              "      width: 32px;\n",
              "    }\n",
              "\n",
              "    .colab-df-convert:hover {\n",
              "      background-color: #E2EBFA;\n",
              "      box-shadow: 0px 1px 2px rgba(60, 64, 67, 0.3), 0px 1px 3px 1px rgba(60, 64, 67, 0.15);\n",
              "      fill: #174EA6;\n",
              "    }\n",
              "\n",
              "    .colab-df-buttons div {\n",
              "      margin-bottom: 4px;\n",
              "    }\n",
              "\n",
              "    [theme=dark] .colab-df-convert {\n",
              "      background-color: #3B4455;\n",
              "      fill: #D2E3FC;\n",
              "    }\n",
              "\n",
              "    [theme=dark] .colab-df-convert:hover {\n",
              "      background-color: #434B5C;\n",
              "      box-shadow: 0px 1px 3px 1px rgba(0, 0, 0, 0.15);\n",
              "      filter: drop-shadow(0px 1px 2px rgba(0, 0, 0, 0.3));\n",
              "      fill: #FFFFFF;\n",
              "    }\n",
              "  </style>\n",
              "\n",
              "    <script>\n",
              "      const buttonEl =\n",
              "        document.querySelector('#df-aea26756-0ad5-4f34-82fc-8a1b82216171 button.colab-df-convert');\n",
              "      buttonEl.style.display =\n",
              "        google.colab.kernel.accessAllowed ? 'block' : 'none';\n",
              "\n",
              "      async function convertToInteractive(key) {\n",
              "        const element = document.querySelector('#df-aea26756-0ad5-4f34-82fc-8a1b82216171');\n",
              "        const dataTable =\n",
              "          await google.colab.kernel.invokeFunction('convertToInteractive',\n",
              "                                                    [key], {});\n",
              "        if (!dataTable) return;\n",
              "\n",
              "        const docLinkHtml = 'Like what you see? Visit the ' +\n",
              "          '<a target=\"_blank\" href=https://colab.research.google.com/notebooks/data_table.ipynb>data table notebook</a>'\n",
              "          + ' to learn more about interactive tables.';\n",
              "        element.innerHTML = '';\n",
              "        dataTable['output_type'] = 'display_data';\n",
              "        await google.colab.output.renderOutput(dataTable, element);\n",
              "        const docLink = document.createElement('div');\n",
              "        docLink.innerHTML = docLinkHtml;\n",
              "        element.appendChild(docLink);\n",
              "      }\n",
              "    </script>\n",
              "  </div>\n",
              "\n",
              "    </div>\n",
              "  </div>\n"
            ]
          },
          "metadata": {},
          "execution_count": 14
        }
      ]
    }
  ]
}